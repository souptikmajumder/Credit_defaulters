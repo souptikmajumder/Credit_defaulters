{
  "nbformat": 4,
  "nbformat_minor": 0,
  "metadata": {
    "colab": {
      "name": "credit_card_fraud_detection.ipynb",
      "provenance": [],
      "collapsed_sections": [
        "8qCjWUejiuk1"
      ],
      "toc_visible": true,
      "mount_file_id": "1DToR-bW_fbjENiIYYtbRW2RPDZ8aeRGb",
      "authorship_tag": "ABX9TyO6/WiKtQZ5ZiTBVvMh4Qtb",
      "include_colab_link": true
    },
    "kernelspec": {
      "name": "python3",
      "display_name": "Python 3"
    },
    "accelerator": "GPU"
  },
  "cells": [
    {
      "cell_type": "markdown",
      "metadata": {
        "id": "view-in-github",
        "colab_type": "text"
      },
      "source": [
        "<a href=\"https://colab.research.google.com/github/souptikmajumder/Credit_defaulters/blob/master/credit_card_fraud_detection.ipynb\" target=\"_parent\"><img src=\"https://colab.research.google.com/assets/colab-badge.svg\" alt=\"Open In Colab\"/></a>"
      ]
    },
    {
      "cell_type": "code",
      "metadata": {
        "id": "xoC48TjkW27Y",
        "colab_type": "code",
        "colab": {}
      },
      "source": [
        "# from google.colab import files\n",
        "# uploaded = files.upload()\n",
        "\n",
        "!pip install -U -q PyDrive\n",
        "from pydrive.auth import GoogleAuth\n",
        "from pydrive.drive import GoogleDrive\n",
        "from google.colab import auth\n",
        "from oauth2client.client import GoogleCredentials\n",
        "# Authenticate and create the PyDrive client.\n",
        "auth.authenticate_user()\n",
        "gauth = GoogleAuth()\n",
        "gauth.credentials = GoogleCredentials.get_application_default()\n",
        "drive = GoogleDrive(gauth)"
      ],
      "execution_count": 0,
      "outputs": []
    },
    {
      "cell_type": "code",
      "metadata": {
        "id": "Q-ganplj3umq",
        "colab_type": "code",
        "colab": {
          "base_uri": "https://localhost:8080/",
          "height": 34
        },
        "outputId": "08da0aef-ddb7-48c2-a45d-b861b025b5fa"
      },
      "source": [
        "link = 'https://drive.google.com/open?id=1Xiwu9ebWn3m34j_ERTIi_uipgOwlgPp2'\n",
        "fluff, id = link.split('=')\n",
        "print (id) # Verify that you have everything after '='"
      ],
      "execution_count": 3,
      "outputs": [
        {
          "output_type": "stream",
          "text": [
            "1Xiwu9ebWn3m34j_ERTIi_uipgOwlgPp2\n"
          ],
          "name": "stdout"
        }
      ]
    },
    {
      "cell_type": "code",
      "metadata": {
        "id": "v2w4-ND74Anb",
        "colab_type": "code",
        "colab": {}
      },
      "source": [
        "downloaded = drive.CreateFile({'id':id}) \n",
        "downloaded.GetContentFile('creditcard.csv')  \n"
      ],
      "execution_count": 0,
      "outputs": []
    },
    {
      "cell_type": "code",
      "metadata": {
        "id": "Ah05ZL_zXQ_c",
        "colab_type": "code",
        "colab": {
          "base_uri": "https://localhost:8080/",
          "height": 71
        },
        "outputId": "dab3b6cb-b35c-43de-b85b-0cb6116e774b"
      },
      "source": [
        "import numpy as np\n",
        "import pandas as pd\n",
        "\n",
        "import matplotlib.pyplot as plt\n",
        "%matplotlib inline\n",
        "import seaborn as sns\n",
        "\n",
        "from sklearn import metrics\n",
        "from sklearn import preprocessing\n",
        "\n",
        "# Suppressing Warnings\n",
        "import warnings\n",
        "warnings.filterwarnings('ignore')"
      ],
      "execution_count": 5,
      "outputs": [
        {
          "output_type": "stream",
          "text": [
            "/usr/local/lib/python3.6/dist-packages/statsmodels/tools/_testing.py:19: FutureWarning: pandas.util.testing is deprecated. Use the functions in the public API at pandas.testing instead.\n",
            "  import pandas.util.testing as tm\n"
          ],
          "name": "stderr"
        }
      ]
    },
    {
      "cell_type": "code",
      "metadata": {
        "id": "_BSlpbA-f49-",
        "colab_type": "code",
        "colab": {
          "base_uri": "https://localhost:8080/",
          "height": 224
        },
        "outputId": "b61b2dc8-6249-4e7d-841d-d096d2351595"
      },
      "source": [
        "df = pd.read_csv('creditcard.csv')\n",
        "df.head()"
      ],
      "execution_count": 6,
      "outputs": [
        {
          "output_type": "execute_result",
          "data": {
            "text/html": [
              "<div>\n",
              "<style scoped>\n",
              "    .dataframe tbody tr th:only-of-type {\n",
              "        vertical-align: middle;\n",
              "    }\n",
              "\n",
              "    .dataframe tbody tr th {\n",
              "        vertical-align: top;\n",
              "    }\n",
              "\n",
              "    .dataframe thead th {\n",
              "        text-align: right;\n",
              "    }\n",
              "</style>\n",
              "<table border=\"1\" class=\"dataframe\">\n",
              "  <thead>\n",
              "    <tr style=\"text-align: right;\">\n",
              "      <th></th>\n",
              "      <th>Time</th>\n",
              "      <th>V1</th>\n",
              "      <th>V2</th>\n",
              "      <th>V3</th>\n",
              "      <th>V4</th>\n",
              "      <th>V5</th>\n",
              "      <th>V6</th>\n",
              "      <th>V7</th>\n",
              "      <th>V8</th>\n",
              "      <th>V9</th>\n",
              "      <th>V10</th>\n",
              "      <th>V11</th>\n",
              "      <th>V12</th>\n",
              "      <th>V13</th>\n",
              "      <th>V14</th>\n",
              "      <th>V15</th>\n",
              "      <th>V16</th>\n",
              "      <th>V17</th>\n",
              "      <th>V18</th>\n",
              "      <th>V19</th>\n",
              "      <th>V20</th>\n",
              "      <th>V21</th>\n",
              "      <th>V22</th>\n",
              "      <th>V23</th>\n",
              "      <th>V24</th>\n",
              "      <th>V25</th>\n",
              "      <th>V26</th>\n",
              "      <th>V27</th>\n",
              "      <th>V28</th>\n",
              "      <th>Amount</th>\n",
              "      <th>Class</th>\n",
              "    </tr>\n",
              "  </thead>\n",
              "  <tbody>\n",
              "    <tr>\n",
              "      <th>0</th>\n",
              "      <td>0.0</td>\n",
              "      <td>-1.359807</td>\n",
              "      <td>-0.072781</td>\n",
              "      <td>2.536347</td>\n",
              "      <td>1.378155</td>\n",
              "      <td>-0.338321</td>\n",
              "      <td>0.462388</td>\n",
              "      <td>0.239599</td>\n",
              "      <td>0.098698</td>\n",
              "      <td>0.363787</td>\n",
              "      <td>0.090794</td>\n",
              "      <td>-0.551600</td>\n",
              "      <td>-0.617801</td>\n",
              "      <td>-0.991390</td>\n",
              "      <td>-0.311169</td>\n",
              "      <td>1.468177</td>\n",
              "      <td>-0.470401</td>\n",
              "      <td>0.207971</td>\n",
              "      <td>0.025791</td>\n",
              "      <td>0.403993</td>\n",
              "      <td>0.251412</td>\n",
              "      <td>-0.018307</td>\n",
              "      <td>0.277838</td>\n",
              "      <td>-0.110474</td>\n",
              "      <td>0.066928</td>\n",
              "      <td>0.128539</td>\n",
              "      <td>-0.189115</td>\n",
              "      <td>0.133558</td>\n",
              "      <td>-0.021053</td>\n",
              "      <td>149.62</td>\n",
              "      <td>0</td>\n",
              "    </tr>\n",
              "    <tr>\n",
              "      <th>1</th>\n",
              "      <td>0.0</td>\n",
              "      <td>1.191857</td>\n",
              "      <td>0.266151</td>\n",
              "      <td>0.166480</td>\n",
              "      <td>0.448154</td>\n",
              "      <td>0.060018</td>\n",
              "      <td>-0.082361</td>\n",
              "      <td>-0.078803</td>\n",
              "      <td>0.085102</td>\n",
              "      <td>-0.255425</td>\n",
              "      <td>-0.166974</td>\n",
              "      <td>1.612727</td>\n",
              "      <td>1.065235</td>\n",
              "      <td>0.489095</td>\n",
              "      <td>-0.143772</td>\n",
              "      <td>0.635558</td>\n",
              "      <td>0.463917</td>\n",
              "      <td>-0.114805</td>\n",
              "      <td>-0.183361</td>\n",
              "      <td>-0.145783</td>\n",
              "      <td>-0.069083</td>\n",
              "      <td>-0.225775</td>\n",
              "      <td>-0.638672</td>\n",
              "      <td>0.101288</td>\n",
              "      <td>-0.339846</td>\n",
              "      <td>0.167170</td>\n",
              "      <td>0.125895</td>\n",
              "      <td>-0.008983</td>\n",
              "      <td>0.014724</td>\n",
              "      <td>2.69</td>\n",
              "      <td>0</td>\n",
              "    </tr>\n",
              "    <tr>\n",
              "      <th>2</th>\n",
              "      <td>1.0</td>\n",
              "      <td>-1.358354</td>\n",
              "      <td>-1.340163</td>\n",
              "      <td>1.773209</td>\n",
              "      <td>0.379780</td>\n",
              "      <td>-0.503198</td>\n",
              "      <td>1.800499</td>\n",
              "      <td>0.791461</td>\n",
              "      <td>0.247676</td>\n",
              "      <td>-1.514654</td>\n",
              "      <td>0.207643</td>\n",
              "      <td>0.624501</td>\n",
              "      <td>0.066084</td>\n",
              "      <td>0.717293</td>\n",
              "      <td>-0.165946</td>\n",
              "      <td>2.345865</td>\n",
              "      <td>-2.890083</td>\n",
              "      <td>1.109969</td>\n",
              "      <td>-0.121359</td>\n",
              "      <td>-2.261857</td>\n",
              "      <td>0.524980</td>\n",
              "      <td>0.247998</td>\n",
              "      <td>0.771679</td>\n",
              "      <td>0.909412</td>\n",
              "      <td>-0.689281</td>\n",
              "      <td>-0.327642</td>\n",
              "      <td>-0.139097</td>\n",
              "      <td>-0.055353</td>\n",
              "      <td>-0.059752</td>\n",
              "      <td>378.66</td>\n",
              "      <td>0</td>\n",
              "    </tr>\n",
              "    <tr>\n",
              "      <th>3</th>\n",
              "      <td>1.0</td>\n",
              "      <td>-0.966272</td>\n",
              "      <td>-0.185226</td>\n",
              "      <td>1.792993</td>\n",
              "      <td>-0.863291</td>\n",
              "      <td>-0.010309</td>\n",
              "      <td>1.247203</td>\n",
              "      <td>0.237609</td>\n",
              "      <td>0.377436</td>\n",
              "      <td>-1.387024</td>\n",
              "      <td>-0.054952</td>\n",
              "      <td>-0.226487</td>\n",
              "      <td>0.178228</td>\n",
              "      <td>0.507757</td>\n",
              "      <td>-0.287924</td>\n",
              "      <td>-0.631418</td>\n",
              "      <td>-1.059647</td>\n",
              "      <td>-0.684093</td>\n",
              "      <td>1.965775</td>\n",
              "      <td>-1.232622</td>\n",
              "      <td>-0.208038</td>\n",
              "      <td>-0.108300</td>\n",
              "      <td>0.005274</td>\n",
              "      <td>-0.190321</td>\n",
              "      <td>-1.175575</td>\n",
              "      <td>0.647376</td>\n",
              "      <td>-0.221929</td>\n",
              "      <td>0.062723</td>\n",
              "      <td>0.061458</td>\n",
              "      <td>123.50</td>\n",
              "      <td>0</td>\n",
              "    </tr>\n",
              "    <tr>\n",
              "      <th>4</th>\n",
              "      <td>2.0</td>\n",
              "      <td>-1.158233</td>\n",
              "      <td>0.877737</td>\n",
              "      <td>1.548718</td>\n",
              "      <td>0.403034</td>\n",
              "      <td>-0.407193</td>\n",
              "      <td>0.095921</td>\n",
              "      <td>0.592941</td>\n",
              "      <td>-0.270533</td>\n",
              "      <td>0.817739</td>\n",
              "      <td>0.753074</td>\n",
              "      <td>-0.822843</td>\n",
              "      <td>0.538196</td>\n",
              "      <td>1.345852</td>\n",
              "      <td>-1.119670</td>\n",
              "      <td>0.175121</td>\n",
              "      <td>-0.451449</td>\n",
              "      <td>-0.237033</td>\n",
              "      <td>-0.038195</td>\n",
              "      <td>0.803487</td>\n",
              "      <td>0.408542</td>\n",
              "      <td>-0.009431</td>\n",
              "      <td>0.798278</td>\n",
              "      <td>-0.137458</td>\n",
              "      <td>0.141267</td>\n",
              "      <td>-0.206010</td>\n",
              "      <td>0.502292</td>\n",
              "      <td>0.219422</td>\n",
              "      <td>0.215153</td>\n",
              "      <td>69.99</td>\n",
              "      <td>0</td>\n",
              "    </tr>\n",
              "  </tbody>\n",
              "</table>\n",
              "</div>"
            ],
            "text/plain": [
              "   Time        V1        V2        V3  ...       V27       V28  Amount  Class\n",
              "0   0.0 -1.359807 -0.072781  2.536347  ...  0.133558 -0.021053  149.62      0\n",
              "1   0.0  1.191857  0.266151  0.166480  ... -0.008983  0.014724    2.69      0\n",
              "2   1.0 -1.358354 -1.340163  1.773209  ... -0.055353 -0.059752  378.66      0\n",
              "3   1.0 -0.966272 -0.185226  1.792993  ...  0.062723  0.061458  123.50      0\n",
              "4   2.0 -1.158233  0.877737  1.548718  ...  0.219422  0.215153   69.99      0\n",
              "\n",
              "[5 rows x 31 columns]"
            ]
          },
          "metadata": {
            "tags": []
          },
          "execution_count": 6
        }
      ]
    },
    {
      "cell_type": "code",
      "metadata": {
        "id": "NC0Nk26uf--a",
        "colab_type": "code",
        "colab": {
          "base_uri": "https://localhost:8080/",
          "height": 34
        },
        "outputId": "d04d41cf-1ced-4953-ffbf-cdef03545053"
      },
      "source": [
        "df.shape"
      ],
      "execution_count": 7,
      "outputs": [
        {
          "output_type": "execute_result",
          "data": {
            "text/plain": [
              "(284807, 31)"
            ]
          },
          "metadata": {
            "tags": []
          },
          "execution_count": 7
        }
      ]
    },
    {
      "cell_type": "markdown",
      "metadata": {
        "id": "WjLMbrW1gOW0",
        "colab_type": "text"
      },
      "source": [
        "There are 284807 rows and 31 columns in the original dataframe.\n"
      ]
    },
    {
      "cell_type": "code",
      "metadata": {
        "id": "Bo393zZFgLBQ",
        "colab_type": "code",
        "colab": {
          "base_uri": "https://localhost:8080/",
          "height": 317
        },
        "outputId": "bc4624bc-4b12-4bef-c5b5-225177d4994b"
      },
      "source": [
        "#observe the different feature type present in the data\n",
        "df.describe()"
      ],
      "execution_count": 8,
      "outputs": [
        {
          "output_type": "execute_result",
          "data": {
            "text/html": [
              "<div>\n",
              "<style scoped>\n",
              "    .dataframe tbody tr th:only-of-type {\n",
              "        vertical-align: middle;\n",
              "    }\n",
              "\n",
              "    .dataframe tbody tr th {\n",
              "        vertical-align: top;\n",
              "    }\n",
              "\n",
              "    .dataframe thead th {\n",
              "        text-align: right;\n",
              "    }\n",
              "</style>\n",
              "<table border=\"1\" class=\"dataframe\">\n",
              "  <thead>\n",
              "    <tr style=\"text-align: right;\">\n",
              "      <th></th>\n",
              "      <th>Time</th>\n",
              "      <th>V1</th>\n",
              "      <th>V2</th>\n",
              "      <th>V3</th>\n",
              "      <th>V4</th>\n",
              "      <th>V5</th>\n",
              "      <th>V6</th>\n",
              "      <th>V7</th>\n",
              "      <th>V8</th>\n",
              "      <th>V9</th>\n",
              "      <th>V10</th>\n",
              "      <th>V11</th>\n",
              "      <th>V12</th>\n",
              "      <th>V13</th>\n",
              "      <th>V14</th>\n",
              "      <th>V15</th>\n",
              "      <th>V16</th>\n",
              "      <th>V17</th>\n",
              "      <th>V18</th>\n",
              "      <th>V19</th>\n",
              "      <th>V20</th>\n",
              "      <th>V21</th>\n",
              "      <th>V22</th>\n",
              "      <th>V23</th>\n",
              "      <th>V24</th>\n",
              "      <th>V25</th>\n",
              "      <th>V26</th>\n",
              "      <th>V27</th>\n",
              "      <th>V28</th>\n",
              "      <th>Amount</th>\n",
              "      <th>Class</th>\n",
              "    </tr>\n",
              "  </thead>\n",
              "  <tbody>\n",
              "    <tr>\n",
              "      <th>count</th>\n",
              "      <td>284807.000000</td>\n",
              "      <td>2.848070e+05</td>\n",
              "      <td>2.848070e+05</td>\n",
              "      <td>2.848070e+05</td>\n",
              "      <td>2.848070e+05</td>\n",
              "      <td>2.848070e+05</td>\n",
              "      <td>2.848070e+05</td>\n",
              "      <td>2.848070e+05</td>\n",
              "      <td>2.848070e+05</td>\n",
              "      <td>2.848070e+05</td>\n",
              "      <td>2.848070e+05</td>\n",
              "      <td>2.848070e+05</td>\n",
              "      <td>2.848070e+05</td>\n",
              "      <td>2.848070e+05</td>\n",
              "      <td>2.848070e+05</td>\n",
              "      <td>2.848070e+05</td>\n",
              "      <td>2.848070e+05</td>\n",
              "      <td>2.848070e+05</td>\n",
              "      <td>2.848070e+05</td>\n",
              "      <td>2.848070e+05</td>\n",
              "      <td>2.848070e+05</td>\n",
              "      <td>2.848070e+05</td>\n",
              "      <td>2.848070e+05</td>\n",
              "      <td>2.848070e+05</td>\n",
              "      <td>2.848070e+05</td>\n",
              "      <td>2.848070e+05</td>\n",
              "      <td>2.848070e+05</td>\n",
              "      <td>2.848070e+05</td>\n",
              "      <td>2.848070e+05</td>\n",
              "      <td>284807.000000</td>\n",
              "      <td>284807.000000</td>\n",
              "    </tr>\n",
              "    <tr>\n",
              "      <th>mean</th>\n",
              "      <td>94813.859575</td>\n",
              "      <td>3.919560e-15</td>\n",
              "      <td>5.688174e-16</td>\n",
              "      <td>-8.769071e-15</td>\n",
              "      <td>2.782312e-15</td>\n",
              "      <td>-1.552563e-15</td>\n",
              "      <td>2.010663e-15</td>\n",
              "      <td>-1.694249e-15</td>\n",
              "      <td>-1.927028e-16</td>\n",
              "      <td>-3.137024e-15</td>\n",
              "      <td>1.768627e-15</td>\n",
              "      <td>9.170318e-16</td>\n",
              "      <td>-1.810658e-15</td>\n",
              "      <td>1.693438e-15</td>\n",
              "      <td>1.479045e-15</td>\n",
              "      <td>3.482336e-15</td>\n",
              "      <td>1.392007e-15</td>\n",
              "      <td>-7.528491e-16</td>\n",
              "      <td>4.328772e-16</td>\n",
              "      <td>9.049732e-16</td>\n",
              "      <td>5.085503e-16</td>\n",
              "      <td>1.537294e-16</td>\n",
              "      <td>7.959909e-16</td>\n",
              "      <td>5.367590e-16</td>\n",
              "      <td>4.458112e-15</td>\n",
              "      <td>1.453003e-15</td>\n",
              "      <td>1.699104e-15</td>\n",
              "      <td>-3.660161e-16</td>\n",
              "      <td>-1.206049e-16</td>\n",
              "      <td>88.349619</td>\n",
              "      <td>0.001727</td>\n",
              "    </tr>\n",
              "    <tr>\n",
              "      <th>std</th>\n",
              "      <td>47488.145955</td>\n",
              "      <td>1.958696e+00</td>\n",
              "      <td>1.651309e+00</td>\n",
              "      <td>1.516255e+00</td>\n",
              "      <td>1.415869e+00</td>\n",
              "      <td>1.380247e+00</td>\n",
              "      <td>1.332271e+00</td>\n",
              "      <td>1.237094e+00</td>\n",
              "      <td>1.194353e+00</td>\n",
              "      <td>1.098632e+00</td>\n",
              "      <td>1.088850e+00</td>\n",
              "      <td>1.020713e+00</td>\n",
              "      <td>9.992014e-01</td>\n",
              "      <td>9.952742e-01</td>\n",
              "      <td>9.585956e-01</td>\n",
              "      <td>9.153160e-01</td>\n",
              "      <td>8.762529e-01</td>\n",
              "      <td>8.493371e-01</td>\n",
              "      <td>8.381762e-01</td>\n",
              "      <td>8.140405e-01</td>\n",
              "      <td>7.709250e-01</td>\n",
              "      <td>7.345240e-01</td>\n",
              "      <td>7.257016e-01</td>\n",
              "      <td>6.244603e-01</td>\n",
              "      <td>6.056471e-01</td>\n",
              "      <td>5.212781e-01</td>\n",
              "      <td>4.822270e-01</td>\n",
              "      <td>4.036325e-01</td>\n",
              "      <td>3.300833e-01</td>\n",
              "      <td>250.120109</td>\n",
              "      <td>0.041527</td>\n",
              "    </tr>\n",
              "    <tr>\n",
              "      <th>min</th>\n",
              "      <td>0.000000</td>\n",
              "      <td>-5.640751e+01</td>\n",
              "      <td>-7.271573e+01</td>\n",
              "      <td>-4.832559e+01</td>\n",
              "      <td>-5.683171e+00</td>\n",
              "      <td>-1.137433e+02</td>\n",
              "      <td>-2.616051e+01</td>\n",
              "      <td>-4.355724e+01</td>\n",
              "      <td>-7.321672e+01</td>\n",
              "      <td>-1.343407e+01</td>\n",
              "      <td>-2.458826e+01</td>\n",
              "      <td>-4.797473e+00</td>\n",
              "      <td>-1.868371e+01</td>\n",
              "      <td>-5.791881e+00</td>\n",
              "      <td>-1.921433e+01</td>\n",
              "      <td>-4.498945e+00</td>\n",
              "      <td>-1.412985e+01</td>\n",
              "      <td>-2.516280e+01</td>\n",
              "      <td>-9.498746e+00</td>\n",
              "      <td>-7.213527e+00</td>\n",
              "      <td>-5.449772e+01</td>\n",
              "      <td>-3.483038e+01</td>\n",
              "      <td>-1.093314e+01</td>\n",
              "      <td>-4.480774e+01</td>\n",
              "      <td>-2.836627e+00</td>\n",
              "      <td>-1.029540e+01</td>\n",
              "      <td>-2.604551e+00</td>\n",
              "      <td>-2.256568e+01</td>\n",
              "      <td>-1.543008e+01</td>\n",
              "      <td>0.000000</td>\n",
              "      <td>0.000000</td>\n",
              "    </tr>\n",
              "    <tr>\n",
              "      <th>25%</th>\n",
              "      <td>54201.500000</td>\n",
              "      <td>-9.203734e-01</td>\n",
              "      <td>-5.985499e-01</td>\n",
              "      <td>-8.903648e-01</td>\n",
              "      <td>-8.486401e-01</td>\n",
              "      <td>-6.915971e-01</td>\n",
              "      <td>-7.682956e-01</td>\n",
              "      <td>-5.540759e-01</td>\n",
              "      <td>-2.086297e-01</td>\n",
              "      <td>-6.430976e-01</td>\n",
              "      <td>-5.354257e-01</td>\n",
              "      <td>-7.624942e-01</td>\n",
              "      <td>-4.055715e-01</td>\n",
              "      <td>-6.485393e-01</td>\n",
              "      <td>-4.255740e-01</td>\n",
              "      <td>-5.828843e-01</td>\n",
              "      <td>-4.680368e-01</td>\n",
              "      <td>-4.837483e-01</td>\n",
              "      <td>-4.988498e-01</td>\n",
              "      <td>-4.562989e-01</td>\n",
              "      <td>-2.117214e-01</td>\n",
              "      <td>-2.283949e-01</td>\n",
              "      <td>-5.423504e-01</td>\n",
              "      <td>-1.618463e-01</td>\n",
              "      <td>-3.545861e-01</td>\n",
              "      <td>-3.171451e-01</td>\n",
              "      <td>-3.269839e-01</td>\n",
              "      <td>-7.083953e-02</td>\n",
              "      <td>-5.295979e-02</td>\n",
              "      <td>5.600000</td>\n",
              "      <td>0.000000</td>\n",
              "    </tr>\n",
              "    <tr>\n",
              "      <th>50%</th>\n",
              "      <td>84692.000000</td>\n",
              "      <td>1.810880e-02</td>\n",
              "      <td>6.548556e-02</td>\n",
              "      <td>1.798463e-01</td>\n",
              "      <td>-1.984653e-02</td>\n",
              "      <td>-5.433583e-02</td>\n",
              "      <td>-2.741871e-01</td>\n",
              "      <td>4.010308e-02</td>\n",
              "      <td>2.235804e-02</td>\n",
              "      <td>-5.142873e-02</td>\n",
              "      <td>-9.291738e-02</td>\n",
              "      <td>-3.275735e-02</td>\n",
              "      <td>1.400326e-01</td>\n",
              "      <td>-1.356806e-02</td>\n",
              "      <td>5.060132e-02</td>\n",
              "      <td>4.807155e-02</td>\n",
              "      <td>6.641332e-02</td>\n",
              "      <td>-6.567575e-02</td>\n",
              "      <td>-3.636312e-03</td>\n",
              "      <td>3.734823e-03</td>\n",
              "      <td>-6.248109e-02</td>\n",
              "      <td>-2.945017e-02</td>\n",
              "      <td>6.781943e-03</td>\n",
              "      <td>-1.119293e-02</td>\n",
              "      <td>4.097606e-02</td>\n",
              "      <td>1.659350e-02</td>\n",
              "      <td>-5.213911e-02</td>\n",
              "      <td>1.342146e-03</td>\n",
              "      <td>1.124383e-02</td>\n",
              "      <td>22.000000</td>\n",
              "      <td>0.000000</td>\n",
              "    </tr>\n",
              "    <tr>\n",
              "      <th>75%</th>\n",
              "      <td>139320.500000</td>\n",
              "      <td>1.315642e+00</td>\n",
              "      <td>8.037239e-01</td>\n",
              "      <td>1.027196e+00</td>\n",
              "      <td>7.433413e-01</td>\n",
              "      <td>6.119264e-01</td>\n",
              "      <td>3.985649e-01</td>\n",
              "      <td>5.704361e-01</td>\n",
              "      <td>3.273459e-01</td>\n",
              "      <td>5.971390e-01</td>\n",
              "      <td>4.539234e-01</td>\n",
              "      <td>7.395934e-01</td>\n",
              "      <td>6.182380e-01</td>\n",
              "      <td>6.625050e-01</td>\n",
              "      <td>4.931498e-01</td>\n",
              "      <td>6.488208e-01</td>\n",
              "      <td>5.232963e-01</td>\n",
              "      <td>3.996750e-01</td>\n",
              "      <td>5.008067e-01</td>\n",
              "      <td>4.589494e-01</td>\n",
              "      <td>1.330408e-01</td>\n",
              "      <td>1.863772e-01</td>\n",
              "      <td>5.285536e-01</td>\n",
              "      <td>1.476421e-01</td>\n",
              "      <td>4.395266e-01</td>\n",
              "      <td>3.507156e-01</td>\n",
              "      <td>2.409522e-01</td>\n",
              "      <td>9.104512e-02</td>\n",
              "      <td>7.827995e-02</td>\n",
              "      <td>77.165000</td>\n",
              "      <td>0.000000</td>\n",
              "    </tr>\n",
              "    <tr>\n",
              "      <th>max</th>\n",
              "      <td>172792.000000</td>\n",
              "      <td>2.454930e+00</td>\n",
              "      <td>2.205773e+01</td>\n",
              "      <td>9.382558e+00</td>\n",
              "      <td>1.687534e+01</td>\n",
              "      <td>3.480167e+01</td>\n",
              "      <td>7.330163e+01</td>\n",
              "      <td>1.205895e+02</td>\n",
              "      <td>2.000721e+01</td>\n",
              "      <td>1.559499e+01</td>\n",
              "      <td>2.374514e+01</td>\n",
              "      <td>1.201891e+01</td>\n",
              "      <td>7.848392e+00</td>\n",
              "      <td>7.126883e+00</td>\n",
              "      <td>1.052677e+01</td>\n",
              "      <td>8.877742e+00</td>\n",
              "      <td>1.731511e+01</td>\n",
              "      <td>9.253526e+00</td>\n",
              "      <td>5.041069e+00</td>\n",
              "      <td>5.591971e+00</td>\n",
              "      <td>3.942090e+01</td>\n",
              "      <td>2.720284e+01</td>\n",
              "      <td>1.050309e+01</td>\n",
              "      <td>2.252841e+01</td>\n",
              "      <td>4.584549e+00</td>\n",
              "      <td>7.519589e+00</td>\n",
              "      <td>3.517346e+00</td>\n",
              "      <td>3.161220e+01</td>\n",
              "      <td>3.384781e+01</td>\n",
              "      <td>25691.160000</td>\n",
              "      <td>1.000000</td>\n",
              "    </tr>\n",
              "  </tbody>\n",
              "</table>\n",
              "</div>"
            ],
            "text/plain": [
              "                Time            V1  ...         Amount          Class\n",
              "count  284807.000000  2.848070e+05  ...  284807.000000  284807.000000\n",
              "mean    94813.859575  3.919560e-15  ...      88.349619       0.001727\n",
              "std     47488.145955  1.958696e+00  ...     250.120109       0.041527\n",
              "min         0.000000 -5.640751e+01  ...       0.000000       0.000000\n",
              "25%     54201.500000 -9.203734e-01  ...       5.600000       0.000000\n",
              "50%     84692.000000  1.810880e-02  ...      22.000000       0.000000\n",
              "75%    139320.500000  1.315642e+00  ...      77.165000       0.000000\n",
              "max    172792.000000  2.454930e+00  ...   25691.160000       1.000000\n",
              "\n",
              "[8 rows x 31 columns]"
            ]
          },
          "metadata": {
            "tags": []
          },
          "execution_count": 8
        }
      ]
    },
    {
      "cell_type": "markdown",
      "metadata": {
        "id": "-e7OwBHw_nrn",
        "colab_type": "text"
      },
      "source": [
        "#### Class Representation"
      ]
    },
    {
      "cell_type": "markdown",
      "metadata": {
        "id": "-TGV9hAogfgo",
        "colab_type": "text"
      },
      "source": [
        "Let's Observe the distribution of classes for both fraudulent and non fraudulent cases\n",
        "\n",
        "Class 0 represent non-fraudulent cases\n",
        "\n",
        "Class 1 represent fraudulent cases"
      ]
    },
    {
      "cell_type": "code",
      "metadata": {
        "id": "5P2hLsKJgYuT",
        "colab_type": "code",
        "colab": {}
      },
      "source": [
        "classes=df['Class'].value_counts()\n",
        "normal_share=classes[0]/df['Class'].count()*100\n",
        "fraud_share=classes[1]/df['Class'].count()*100"
      ],
      "execution_count": 0,
      "outputs": []
    },
    {
      "cell_type": "markdown",
      "metadata": {
        "id": "ysf5d7Se_0gn",
        "colab_type": "text"
      },
      "source": [
        "#### EDA on original dataset"
      ]
    },
    {
      "cell_type": "code",
      "metadata": {
        "id": "40G2BGOPgriY",
        "colab_type": "code",
        "colab": {
          "base_uri": "https://localhost:8080/",
          "height": 235
        },
        "outputId": "8165da97-d3cf-4c28-b853-652bf9565d68"
      },
      "source": [
        "# Create a bar plot for the number and percentage of fraudulent vs non-fraudulent transcations\n",
        "share_type=['normal','fraud']\n",
        "share_per =[normal_share,fraud_share]\n",
        "share_num =[classes[0],classes[1]]\n",
        "\n",
        "fig, axs = plt.subplots(ncols=2)\n",
        "sns.barplot(x=share_type,y=share_per,ax=axs[0])\n",
        "sns.barplot(x=share_type,y=share_num,ax=axs[1])\n",
        "fig.tight_layout(pad=5.0)\n",
        "plt.title(\"Percentage and Number of Normal Vs Fraud cases\")\n",
        "plt.show()"
      ],
      "execution_count": 10,
      "outputs": [
        {
          "output_type": "display_data",
          "data": {
            "image/png": "[encoded data removed]",
            "text/plain": [
              "<Figure size 432x288 with 2 Axes>"
            ]
          },
          "metadata": {
            "tags": []
          }
        }
      ]
    },
    {
      "cell_type": "code",
      "metadata": {
        "id": "jcuZhBDtg6Xl",
        "colab_type": "code",
        "colab": {
          "base_uri": "https://localhost:8080/",
          "height": 270
        },
        "outputId": "c5279f76-f743-4e7f-c764-18481ef98bf4"
      },
      "source": [
        "fig, ax = plt.subplots(1, 2, figsize=(18,4))\n",
        "\n",
        "# Plot the distribution of 'Time' feature \n",
        "sns.distplot(df['Time'].values/(60*60), ax=ax[0], color='r')\n",
        "ax[0].set_title('Distribution of Transaction Time', fontsize=14)\n",
        "ax[0].set_xlim([min(df['Time'].values/(60*60)), max(df['Time'].values/(60*60))])\n",
        "\n",
        "# Plot the distribution of 'Amount' feature\n",
        "sns.distplot(df['Amount'].values, ax=ax[1], color='b')\n",
        "ax[1].set_title('Distribution of Transaction Amount', fontsize=14)\n",
        "ax[1].set_xlim([min(df['Amount'].values), max(df['Amount'].values)])"
      ],
      "execution_count": 11,
      "outputs": [
        {
          "output_type": "execute_result",
          "data": {
            "text/plain": [
              "(0.0, 25691.16)"
            ]
          },
          "metadata": {
            "tags": []
          },
          "execution_count": 11
        },
        {
          "output_type": "display_data",
          "data": {
            "image/png": "[encoded data removed]",
            "text/plain": [
              "<Figure size 1296x288 with 2 Axes>"
            ]
          },
          "metadata": {
            "tags": []
          }
        }
      ]
    },
    {
      "cell_type": "code",
      "metadata": {
        "id": "U__GdqU0iCEz",
        "colab_type": "code",
        "colab": {}
      },
      "source": [
        "# Seperate data as non-fraud and fraud cases\n",
        "df_nonfraud = df[df.Class == 0] \n",
        "df_fraud    = df[df.Class == 1]"
      ],
      "execution_count": 0,
      "outputs": []
    },
    {
      "cell_type": "code",
      "metadata": {
        "id": "_OpER3rFkVJw",
        "colab_type": "code",
        "colab": {
          "base_uri": "https://localhost:8080/",
          "height": 295
        },
        "outputId": "dd3d12ec-c154-4343-eb92-321e619241ea"
      },
      "source": [
        "#plot histogram for amount for fraudulent and non-fraudulent cases\n",
        "plt.hist(df_fraud.Amount, alpha=1,density= True, label='Fraud')\n",
        "plt.hist(df_nonfraud.Amount, alpha=0.6,density = True, label='Non-Fraud')\n",
        "\n",
        "plt.legend(loc='upper right')\n",
        "plt.title(\"Amount by percentage of transactions\")\n",
        "plt.xlabel(\"Transaction amount (USD)\")\n",
        "plt.ylabel(\"Percentage of transactions (%)\")\n",
        "plt.show()"
      ],
      "execution_count": 13,
      "outputs": [
        {
          "output_type": "display_data",
          "data": {
            "image/png": "[encoded data removed]",
            "text/plain": [
              "<Figure size 432x288 with 1 Axes>"
            ]
          },
          "metadata": {
            "tags": []
          }
        }
      ]
    },
    {
      "cell_type": "code",
      "metadata": {
        "id": "WoHx18jjlSLz",
        "colab_type": "code",
        "colab": {
          "base_uri": "https://localhost:8080/",
          "height": 295
        },
        "outputId": "d0e66b41-4f51-43d7-abd3-b0462e01698b"
      },
      "source": [
        "#plot histogram for time elapsed since the current and first transaction in hours for fraudulent and non-fraudulent cases\n",
        "\n",
        "#fig, axs = plt.subplots(ncols=2)\n",
        "plt.hist((df_fraud.Time/(60*60)), histtype='bar',density=True,alpha=1, label='Fraud')\n",
        "\n",
        "plt.hist((df_nonfraud.Time/(60*60)), histtype='bar',density=True,alpha=0.6, label='Non-Fraud')\n",
        "\n",
        "plt.legend(loc='upper right')\n",
        "plt.title(\"Percentage of Time elapsed within 48 hours since first transaction\")\n",
        "plt.xlabel(\"Time elapsed(in hours)\")\n",
        "plt.ylabel(\"Percentage of elapsed time (%)\")\n",
        "plt.show()\n",
        "\n"
      ],
      "execution_count": 14,
      "outputs": [
        {
          "output_type": "display_data",
          "data": {
            "image/png": "[encoded data removed]",
            "text/plain": [
              "<Figure size 432x288 with 1 Axes>"
            ]
          },
          "metadata": {
            "tags": []
          }
        }
      ]
    },
    {
      "cell_type": "code",
      "metadata": {
        "id": "jU9fvENimAte",
        "colab_type": "code",
        "colab": {
          "base_uri": "https://localhost:8080/",
          "height": 295
        },
        "outputId": "baf6ed58-5b0b-4ca6-c296-79cc0ae373bd"
      },
      "source": [
        "# Plot of transactions in 48 hours\n",
        "plt.plot((df_nonfraud.Time/(60*60)), df_nonfraud.Amount, alpha=0.8, label='Non-Fraud')\n",
        "plt.plot((df_fraud.Time/(60*60)), df_fraud.Amount, alpha=0.9, label='Fraud')\n",
        "plt.title(\"Amount of transaction by hour\")\n",
        "plt.xlabel(\"Transaction time as measured from first transaction in the dataset (hours)\")\n",
        "plt.ylabel('Amount (USD)')\n",
        "plt.legend(loc='upper right')\n",
        "plt.show()"
      ],
      "execution_count": 15,
      "outputs": [
        {
          "output_type": "display_data",
          "data": {
            "image/png": "[encoded data removed]",
            "text/plain": [
              "<Figure size 432x288 with 1 Axes>"
            ]
          },
          "metadata": {
            "tags": []
          }
        }
      ]
    },
    {
      "cell_type": "code",
      "metadata": {
        "id": "WGELEnPFv6cw",
        "colab_type": "code",
        "colab": {}
      },
      "source": [
        "Original_Amount = df['Amount']\n",
        "Original_time   = df['Time']\n",
        "\n",
        "#saving values as amount and time has to be scaled since they are non PCA components\n"
      ],
      "execution_count": 0,
      "outputs": []
    },
    {
      "cell_type": "markdown",
      "metadata": {
        "id": "8qCjWUejiuk1",
        "colab_type": "text"
      },
      "source": [
        "#### Feature correlation"
      ]
    },
    {
      "cell_type": "code",
      "metadata": {
        "id": "h8EpIKlEwyYH",
        "colab_type": "code",
        "colab": {
          "base_uri": "https://localhost:8080/",
          "height": 0
        },
        "outputId": "96efad36-d7eb-422d-b87c-8a36174dd3cb"
      },
      "source": [
        "# Drop unnecessary columns\n",
        "plt.figure(figsize=(15,15))\n",
        "sns.heatmap(df.corr())"
      ],
      "execution_count": 17,
      "outputs": [
        {
          "output_type": "execute_result",
          "data": {
            "text/plain": [
              "<matplotlib.axes._subplots.AxesSubplot at 0x7fc755ac6da0>"
            ]
          },
          "metadata": {
            "tags": []
          },
          "execution_count": 17
        },
        {
          "output_type": "display_data",
          "data": {
            "image/png": "[encoded data removed]",
            "text/plain": [
              "<Figure size 1080x1080 with 2 Axes>"
            ]
          },
          "metadata": {
            "tags": []
          }
        }
      ]
    },
    {
      "cell_type": "code",
      "metadata": {
        "id": "jHB1St41w1TX",
        "colab_type": "code",
        "colab": {}
      },
      "source": [
        "#Removing the columns with positive and negative correlation\n",
        "#v2 is highly negatively correlated with amount\n",
        "#v3 is highly negatively correlated with time\n",
        "#v5 is highly negatively correlated with amount\n",
        "\n",
        "#here, the threshold for correlation coefficient is kept at 0.5/-0.5\n",
        "\n",
        "#hence dropping v2,v3,v5\n",
        "\n",
        "df = df.drop(columns=['V2','V3','V5'])"
      ],
      "execution_count": 0,
      "outputs": []
    },
    {
      "cell_type": "markdown",
      "metadata": {
        "id": "vwaU1m8AxYT6",
        "colab_type": "text"
      },
      "source": [
        " We have dropped columns V2, V3, V5 based on the high negative correlation from the existing dataframe."
      ]
    },
    {
      "cell_type": "markdown",
      "metadata": {
        "id": "Vgs56ctGyF4L",
        "colab_type": "text"
      },
      "source": [
        "### Splitting the dataset into train and test data\n"
      ]
    },
    {
      "cell_type": "code",
      "metadata": {
        "id": "_pwlqx4wxmgq",
        "colab_type": "code",
        "colab": {}
      },
      "source": [
        "y = df['Class']\n",
        "X=  df.drop(['Class'],axis=1)"
      ],
      "execution_count": 0,
      "outputs": []
    },
    {
      "cell_type": "code",
      "metadata": {
        "id": "pwHdoqoxyd4t",
        "colab_type": "code",
        "colab": {
          "base_uri": "https://localhost:8080/",
          "height": 119
        },
        "outputId": "1fcd67dc-b03b-4b97-fc87-abf2a7beac09"
      },
      "source": [
        "y.head()"
      ],
      "execution_count": 20,
      "outputs": [
        {
          "output_type": "execute_result",
          "data": {
            "text/plain": [
              "0    0\n",
              "1    0\n",
              "2    0\n",
              "3    0\n",
              "4    0\n",
              "Name: Class, dtype: int64"
            ]
          },
          "metadata": {
            "tags": []
          },
          "execution_count": 20
        }
      ]
    },
    {
      "cell_type": "code",
      "metadata": {
        "id": "2BxZ6-7lymYI",
        "colab_type": "code",
        "colab": {
          "base_uri": "https://localhost:8080/",
          "height": 224
        },
        "outputId": "b391b1e7-7da6-4f74-b4c6-ff71a024d3a2"
      },
      "source": [
        "X.head()"
      ],
      "execution_count": 21,
      "outputs": [
        {
          "output_type": "execute_result",
          "data": {
            "text/html": [
              "<div>\n",
              "<style scoped>\n",
              "    .dataframe tbody tr th:only-of-type {\n",
              "        vertical-align: middle;\n",
              "    }\n",
              "\n",
              "    .dataframe tbody tr th {\n",
              "        vertical-align: top;\n",
              "    }\n",
              "\n",
              "    .dataframe thead th {\n",
              "        text-align: right;\n",
              "    }\n",
              "</style>\n",
              "<table border=\"1\" class=\"dataframe\">\n",
              "  <thead>\n",
              "    <tr style=\"text-align: right;\">\n",
              "      <th></th>\n",
              "      <th>Time</th>\n",
              "      <th>V1</th>\n",
              "      <th>V4</th>\n",
              "      <th>V6</th>\n",
              "      <th>V7</th>\n",
              "      <th>V8</th>\n",
              "      <th>V9</th>\n",
              "      <th>V10</th>\n",
              "      <th>V11</th>\n",
              "      <th>V12</th>\n",
              "      <th>V13</th>\n",
              "      <th>V14</th>\n",
              "      <th>V15</th>\n",
              "      <th>V16</th>\n",
              "      <th>V17</th>\n",
              "      <th>V18</th>\n",
              "      <th>V19</th>\n",
              "      <th>V20</th>\n",
              "      <th>V21</th>\n",
              "      <th>V22</th>\n",
              "      <th>V23</th>\n",
              "      <th>V24</th>\n",
              "      <th>V25</th>\n",
              "      <th>V26</th>\n",
              "      <th>V27</th>\n",
              "      <th>V28</th>\n",
              "      <th>Amount</th>\n",
              "    </tr>\n",
              "  </thead>\n",
              "  <tbody>\n",
              "    <tr>\n",
              "      <th>0</th>\n",
              "      <td>0.0</td>\n",
              "      <td>-1.359807</td>\n",
              "      <td>1.378155</td>\n",
              "      <td>0.462388</td>\n",
              "      <td>0.239599</td>\n",
              "      <td>0.098698</td>\n",
              "      <td>0.363787</td>\n",
              "      <td>0.090794</td>\n",
              "      <td>-0.551600</td>\n",
              "      <td>-0.617801</td>\n",
              "      <td>-0.991390</td>\n",
              "      <td>-0.311169</td>\n",
              "      <td>1.468177</td>\n",
              "      <td>-0.470401</td>\n",
              "      <td>0.207971</td>\n",
              "      <td>0.025791</td>\n",
              "      <td>0.403993</td>\n",
              "      <td>0.251412</td>\n",
              "      <td>-0.018307</td>\n",
              "      <td>0.277838</td>\n",
              "      <td>-0.110474</td>\n",
              "      <td>0.066928</td>\n",
              "      <td>0.128539</td>\n",
              "      <td>-0.189115</td>\n",
              "      <td>0.133558</td>\n",
              "      <td>-0.021053</td>\n",
              "      <td>149.62</td>\n",
              "    </tr>\n",
              "    <tr>\n",
              "      <th>1</th>\n",
              "      <td>0.0</td>\n",
              "      <td>1.191857</td>\n",
              "      <td>0.448154</td>\n",
              "      <td>-0.082361</td>\n",
              "      <td>-0.078803</td>\n",
              "      <td>0.085102</td>\n",
              "      <td>-0.255425</td>\n",
              "      <td>-0.166974</td>\n",
              "      <td>1.612727</td>\n",
              "      <td>1.065235</td>\n",
              "      <td>0.489095</td>\n",
              "      <td>-0.143772</td>\n",
              "      <td>0.635558</td>\n",
              "      <td>0.463917</td>\n",
              "      <td>-0.114805</td>\n",
              "      <td>-0.183361</td>\n",
              "      <td>-0.145783</td>\n",
              "      <td>-0.069083</td>\n",
              "      <td>-0.225775</td>\n",
              "      <td>-0.638672</td>\n",
              "      <td>0.101288</td>\n",
              "      <td>-0.339846</td>\n",
              "      <td>0.167170</td>\n",
              "      <td>0.125895</td>\n",
              "      <td>-0.008983</td>\n",
              "      <td>0.014724</td>\n",
              "      <td>2.69</td>\n",
              "    </tr>\n",
              "    <tr>\n",
              "      <th>2</th>\n",
              "      <td>1.0</td>\n",
              "      <td>-1.358354</td>\n",
              "      <td>0.379780</td>\n",
              "      <td>1.800499</td>\n",
              "      <td>0.791461</td>\n",
              "      <td>0.247676</td>\n",
              "      <td>-1.514654</td>\n",
              "      <td>0.207643</td>\n",
              "      <td>0.624501</td>\n",
              "      <td>0.066084</td>\n",
              "      <td>0.717293</td>\n",
              "      <td>-0.165946</td>\n",
              "      <td>2.345865</td>\n",
              "      <td>-2.890083</td>\n",
              "      <td>1.109969</td>\n",
              "      <td>-0.121359</td>\n",
              "      <td>-2.261857</td>\n",
              "      <td>0.524980</td>\n",
              "      <td>0.247998</td>\n",
              "      <td>0.771679</td>\n",
              "      <td>0.909412</td>\n",
              "      <td>-0.689281</td>\n",
              "      <td>-0.327642</td>\n",
              "      <td>-0.139097</td>\n",
              "      <td>-0.055353</td>\n",
              "      <td>-0.059752</td>\n",
              "      <td>378.66</td>\n",
              "    </tr>\n",
              "    <tr>\n",
              "      <th>3</th>\n",
              "      <td>1.0</td>\n",
              "      <td>-0.966272</td>\n",
              "      <td>-0.863291</td>\n",
              "      <td>1.247203</td>\n",
              "      <td>0.237609</td>\n",
              "      <td>0.377436</td>\n",
              "      <td>-1.387024</td>\n",
              "      <td>-0.054952</td>\n",
              "      <td>-0.226487</td>\n",
              "      <td>0.178228</td>\n",
              "      <td>0.507757</td>\n",
              "      <td>-0.287924</td>\n",
              "      <td>-0.631418</td>\n",
              "      <td>-1.059647</td>\n",
              "      <td>-0.684093</td>\n",
              "      <td>1.965775</td>\n",
              "      <td>-1.232622</td>\n",
              "      <td>-0.208038</td>\n",
              "      <td>-0.108300</td>\n",
              "      <td>0.005274</td>\n",
              "      <td>-0.190321</td>\n",
              "      <td>-1.175575</td>\n",
              "      <td>0.647376</td>\n",
              "      <td>-0.221929</td>\n",
              "      <td>0.062723</td>\n",
              "      <td>0.061458</td>\n",
              "      <td>123.50</td>\n",
              "    </tr>\n",
              "    <tr>\n",
              "      <th>4</th>\n",
              "      <td>2.0</td>\n",
              "      <td>-1.158233</td>\n",
              "      <td>0.403034</td>\n",
              "      <td>0.095921</td>\n",
              "      <td>0.592941</td>\n",
              "      <td>-0.270533</td>\n",
              "      <td>0.817739</td>\n",
              "      <td>0.753074</td>\n",
              "      <td>-0.822843</td>\n",
              "      <td>0.538196</td>\n",
              "      <td>1.345852</td>\n",
              "      <td>-1.119670</td>\n",
              "      <td>0.175121</td>\n",
              "      <td>-0.451449</td>\n",
              "      <td>-0.237033</td>\n",
              "      <td>-0.038195</td>\n",
              "      <td>0.803487</td>\n",
              "      <td>0.408542</td>\n",
              "      <td>-0.009431</td>\n",
              "      <td>0.798278</td>\n",
              "      <td>-0.137458</td>\n",
              "      <td>0.141267</td>\n",
              "      <td>-0.206010</td>\n",
              "      <td>0.502292</td>\n",
              "      <td>0.219422</td>\n",
              "      <td>0.215153</td>\n",
              "      <td>69.99</td>\n",
              "    </tr>\n",
              "  </tbody>\n",
              "</table>\n",
              "</div>"
            ],
            "text/plain": [
              "   Time        V1        V4        V6  ...       V26       V27       V28  Amount\n",
              "0   0.0 -1.359807  1.378155  0.462388  ... -0.189115  0.133558 -0.021053  149.62\n",
              "1   0.0  1.191857  0.448154 -0.082361  ...  0.125895 -0.008983  0.014724    2.69\n",
              "2   1.0 -1.358354  0.379780  1.800499  ... -0.139097 -0.055353 -0.059752  378.66\n",
              "3   1.0 -0.966272 -0.863291  1.247203  ... -0.221929  0.062723  0.061458  123.50\n",
              "4   2.0 -1.158233  0.403034  0.095921  ...  0.502292  0.219422  0.215153   69.99\n",
              "\n",
              "[5 rows x 27 columns]"
            ]
          },
          "metadata": {
            "tags": []
          },
          "execution_count": 21
        }
      ]
    },
    {
      "cell_type": "code",
      "metadata": {
        "id": "if45w7vWjYxH",
        "colab_type": "code",
        "colab": {
          "base_uri": "https://localhost:8080/",
          "height": 85
        },
        "outputId": "7653843d-c95b-4c86-e7b9-23282e047a15"
      },
      "source": [
        "#splitting data into train and test data\n",
        "from sklearn import model_selection\n",
        "\n",
        "X_train, X_test, y_train, y_test = model_selection.train_test_split(X,y,train_size=0.7,test_size=0.3,random_state=100)\n",
        "\n",
        "\n",
        "print(X_train.shape)\n",
        "print(X_test.shape)\n",
        "print(y_train.shape)\n",
        "print(y_test.shape)\n"
      ],
      "execution_count": 22,
      "outputs": [
        {
          "output_type": "stream",
          "text": [
            "(199364, 27)\n",
            "(85443, 27)\n",
            "(199364,)\n",
            "(85443,)\n"
          ],
          "name": "stdout"
        }
      ]
    },
    {
      "cell_type": "markdown",
      "metadata": {
        "id": "TUwGh09Eh3B1",
        "colab_type": "text"
      },
      "source": [
        "#### Scaling features like Amount and Time as they were not one of the PCA Components"
      ]
    },
    {
      "cell_type": "code",
      "metadata": {
        "id": "2lfqtJwbwsjW",
        "colab_type": "code",
        "colab": {
          "base_uri": "https://localhost:8080/",
          "height": 224
        },
        "outputId": "c3c0e9a1-2f19-47c7-bc63-19efc77e00dd"
      },
      "source": [
        "# Scale \"Time\" and \"Amount\"\n",
        "from sklearn.preprocessing import StandardScaler, RobustScaler\n",
        "rs = RobustScaler()\n",
        "X_train['Amount'] = rs.fit_transform(X_train['Amount'].values.reshape(-1,1))\n",
        "X_train['Time'] = rs.fit_transform(X_train['Time'].values.reshape(-1,1))\n",
        "\n",
        "X_train.head()"
      ],
      "execution_count": 23,
      "outputs": [
        {
          "output_type": "execute_result",
          "data": {
            "text/html": [
              "<div>\n",
              "<style scoped>\n",
              "    .dataframe tbody tr th:only-of-type {\n",
              "        vertical-align: middle;\n",
              "    }\n",
              "\n",
              "    .dataframe tbody tr th {\n",
              "        vertical-align: top;\n",
              "    }\n",
              "\n",
              "    .dataframe thead th {\n",
              "        text-align: right;\n",
              "    }\n",
              "</style>\n",
              "<table border=\"1\" class=\"dataframe\">\n",
              "  <thead>\n",
              "    <tr style=\"text-align: right;\">\n",
              "      <th></th>\n",
              "      <th>Time</th>\n",
              "      <th>V1</th>\n",
              "      <th>V4</th>\n",
              "      <th>V6</th>\n",
              "      <th>V7</th>\n",
              "      <th>V8</th>\n",
              "      <th>V9</th>\n",
              "      <th>V10</th>\n",
              "      <th>V11</th>\n",
              "      <th>V12</th>\n",
              "      <th>V13</th>\n",
              "      <th>V14</th>\n",
              "      <th>V15</th>\n",
              "      <th>V16</th>\n",
              "      <th>V17</th>\n",
              "      <th>V18</th>\n",
              "      <th>V19</th>\n",
              "      <th>V20</th>\n",
              "      <th>V21</th>\n",
              "      <th>V22</th>\n",
              "      <th>V23</th>\n",
              "      <th>V24</th>\n",
              "      <th>V25</th>\n",
              "      <th>V26</th>\n",
              "      <th>V27</th>\n",
              "      <th>V28</th>\n",
              "      <th>Amount</th>\n",
              "    </tr>\n",
              "  </thead>\n",
              "  <tbody>\n",
              "    <tr>\n",
              "      <th>7610</th>\n",
              "      <td>-0.871386</td>\n",
              "      <td>1.160485</td>\n",
              "      <td>-0.083757</td>\n",
              "      <td>0.309873</td>\n",
              "      <td>-0.503116</td>\n",
              "      <td>0.130077</td>\n",
              "      <td>1.279474</td>\n",
              "      <td>-0.528215</td>\n",
              "      <td>3.021936</td>\n",
              "      <td>-0.953080</td>\n",
              "      <td>2.523534</td>\n",
              "      <td>1.642896</td>\n",
              "      <td>0.223514</td>\n",
              "      <td>-0.059052</td>\n",
              "      <td>0.630296</td>\n",
              "      <td>-0.664479</td>\n",
              "      <td>-0.614659</td>\n",
              "      <td>-0.109200</td>\n",
              "      <td>-0.167768</td>\n",
              "      <td>-0.142183</td>\n",
              "      <td>0.148065</td>\n",
              "      <td>-0.261307</td>\n",
              "      <td>-0.052688</td>\n",
              "      <td>0.904879</td>\n",
              "      <td>-0.061990</td>\n",
              "      <td>-0.012372</td>\n",
              "      <td>-0.301442</td>\n",
              "    </tr>\n",
              "    <tr>\n",
              "      <th>190214</th>\n",
              "      <td>0.518571</td>\n",
              "      <td>2.054237</td>\n",
              "      <td>0.183785</td>\n",
              "      <td>-0.605905</td>\n",
              "      <td>0.102048</td>\n",
              "      <td>-0.183363</td>\n",
              "      <td>0.245017</td>\n",
              "      <td>0.229607</td>\n",
              "      <td>0.610062</td>\n",
              "      <td>1.214313</td>\n",
              "      <td>0.521753</td>\n",
              "      <td>0.351972</td>\n",
              "      <td>-0.676072</td>\n",
              "      <td>0.208449</td>\n",
              "      <td>-0.738125</td>\n",
              "      <td>-0.275378</td>\n",
              "      <td>0.612126</td>\n",
              "      <td>-0.169517</td>\n",
              "      <td>-0.263893</td>\n",
              "      <td>-0.636424</td>\n",
              "      <td>0.263862</td>\n",
              "      <td>-0.480128</td>\n",
              "      <td>-0.249245</td>\n",
              "      <td>0.206509</td>\n",
              "      <td>-0.072079</td>\n",
              "      <td>-0.074044</td>\n",
              "      <td>-0.287160</td>\n",
              "    </tr>\n",
              "    <tr>\n",
              "      <th>130590</th>\n",
              "      <td>-0.061742</td>\n",
              "      <td>1.434517</td>\n",
              "      <td>-2.432927</td>\n",
              "      <td>3.528638</td>\n",
              "      <td>-1.814737</td>\n",
              "      <td>0.859190</td>\n",
              "      <td>-1.680052</td>\n",
              "      <td>1.451927</td>\n",
              "      <td>-0.311041</td>\n",
              "      <td>-1.048697</td>\n",
              "      <td>0.620637</td>\n",
              "      <td>-0.406962</td>\n",
              "      <td>1.014342</td>\n",
              "      <td>0.189104</td>\n",
              "      <td>-0.129896</td>\n",
              "      <td>0.835635</td>\n",
              "      <td>-0.120798</td>\n",
              "      <td>-0.068984</td>\n",
              "      <td>-0.020924</td>\n",
              "      <td>0.089320</td>\n",
              "      <td>-0.120671</td>\n",
              "      <td>1.009913</td>\n",
              "      <td>0.510411</td>\n",
              "      <td>-0.038200</td>\n",
              "      <td>0.047306</td>\n",
              "      <td>0.031218</td>\n",
              "      <td>0.693150</td>\n",
              "    </tr>\n",
              "    <tr>\n",
              "      <th>247916</th>\n",
              "      <td>0.812454</td>\n",
              "      <td>-0.112311</td>\n",
              "      <td>-0.502613</td>\n",
              "      <td>-1.028247</td>\n",
              "      <td>0.964615</td>\n",
              "      <td>-0.112966</td>\n",
              "      <td>0.082123</td>\n",
              "      <td>-0.539202</td>\n",
              "      <td>-0.183169</td>\n",
              "      <td>0.161022</td>\n",
              "      <td>0.112076</td>\n",
              "      <td>-1.092514</td>\n",
              "      <td>-0.231143</td>\n",
              "      <td>0.111046</td>\n",
              "      <td>0.566802</td>\n",
              "      <td>-0.491726</td>\n",
              "      <td>-0.501441</td>\n",
              "      <td>0.135098</td>\n",
              "      <td>-0.334646</td>\n",
              "      <td>-0.734681</td>\n",
              "      <td>0.161824</td>\n",
              "      <td>0.984857</td>\n",
              "      <td>-0.439226</td>\n",
              "      <td>0.093359</td>\n",
              "      <td>0.332998</td>\n",
              "      <td>0.149541</td>\n",
              "      <td>-0.292707</td>\n",
              "    </tr>\n",
              "    <tr>\n",
              "      <th>55518</th>\n",
              "      <td>-0.442719</td>\n",
              "      <td>1.123477</td>\n",
              "      <td>0.533433</td>\n",
              "      <td>-0.068741</td>\n",
              "      <td>-0.575773</td>\n",
              "      <td>0.257399</td>\n",
              "      <td>0.235960</td>\n",
              "      <td>0.066642</td>\n",
              "      <td>1.635221</td>\n",
              "      <td>0.595421</td>\n",
              "      <td>-0.843761</td>\n",
              "      <td>0.467763</td>\n",
              "      <td>0.944421</td>\n",
              "      <td>0.460752</td>\n",
              "      <td>-0.391411</td>\n",
              "      <td>-0.042388</td>\n",
              "      <td>-0.463772</td>\n",
              "      <td>-0.170440</td>\n",
              "      <td>-0.003975</td>\n",
              "      <td>-0.052800</td>\n",
              "      <td>0.145628</td>\n",
              "      <td>0.219496</td>\n",
              "      <td>0.000863</td>\n",
              "      <td>0.215796</td>\n",
              "      <td>0.000743</td>\n",
              "      <td>0.013160</td>\n",
              "      <td>-0.221991</td>\n",
              "    </tr>\n",
              "  </tbody>\n",
              "</table>\n",
              "</div>"
            ],
            "text/plain": [
              "            Time        V1        V4  ...       V27       V28    Amount\n",
              "7610   -0.871386  1.160485 -0.083757  ... -0.061990 -0.012372 -0.301442\n",
              "190214  0.518571  2.054237  0.183785  ... -0.072079 -0.074044 -0.287160\n",
              "130590 -0.061742  1.434517 -2.432927  ...  0.047306  0.031218  0.693150\n",
              "247916  0.812454 -0.112311 -0.502613  ...  0.332998  0.149541 -0.292707\n",
              "55518  -0.442719  1.123477  0.533433  ...  0.000743  0.013160 -0.221991\n",
              "\n",
              "[5 rows x 27 columns]"
            ]
          },
          "metadata": {
            "tags": []
          },
          "execution_count": 23
        }
      ]
    },
    {
      "cell_type": "markdown",
      "metadata": {
        "id": "D7GbnwuQj1rC",
        "colab_type": "text"
      },
      "source": [
        "### Oversampling the train data"
      ]
    },
    {
      "cell_type": "code",
      "metadata": {
        "id": "lUxGcH_6yoPp",
        "colab_type": "code",
        "colab": {}
      },
      "source": [
        "#Sampling training data based on oversampling techniques like random_oversampling,SMOTE,BorderLineSMOTE,ADASYN\n",
        "\n",
        "from imblearn.over_sampling import RandomOverSampler\n",
        "from imblearn.over_sampling import SMOTE\n",
        "from imblearn.over_sampling import BorderlineSMOTE\n",
        "from imblearn.over_sampling import ADASYN\n",
        "from imblearn.pipeline import Pipeline # Inorder to avoid testing model on sampled data\n",
        "\n",
        "# Create objects for oversampling methods\n",
        "\n",
        "oversam = RandomOverSampler(random_state=0)\n",
        "smote = SMOTE(kind='regular',random_state=0)\n",
        "borderlinesmote = BorderlineSMOTE(kind='borderline-2',random_state=0)\n",
        "adasyn = ADASYN()\n",
        "\n",
        "X_oversam, y_oversam = oversam.fit_sample(X_train,y_train)\n",
        "X_smote, y_smote = smote.fit_sample(X_train,y_train)\n",
        "X_borderlinesmote, y_borderlinesmote = borderlinesmote.fit_sample(X_train,y_train)\n",
        "X_adasyn,y_adasyn = adasyn.fit_sample(X_train,y_train)\n"
      ],
      "execution_count": 0,
      "outputs": []
    },
    {
      "cell_type": "code",
      "metadata": {
        "id": "sGh3OjjQElbH",
        "colab_type": "code",
        "colab": {
          "base_uri": "https://localhost:8080/",
          "height": 34
        },
        "outputId": "d0feff88-9c94-49aa-9b8e-10fc5ffb1958"
      },
      "source": [
        "X_oversam.shape #number of rows in random oversampled data"
      ],
      "execution_count": 25,
      "outputs": [
        {
          "output_type": "execute_result",
          "data": {
            "text/plain": [
              "(398028, 27)"
            ]
          },
          "metadata": {
            "tags": []
          },
          "execution_count": 25
        }
      ]
    },
    {
      "cell_type": "code",
      "metadata": {
        "id": "k8g8CDPiTCqa",
        "colab_type": "code",
        "colab": {
          "base_uri": "https://localhost:8080/",
          "height": 34
        },
        "outputId": "376cf726-7067-4956-b4ab-8eed7f668bc1"
      },
      "source": [
        "X_smote.shape #number of rows in oversampling done using SMOTE"
      ],
      "execution_count": 26,
      "outputs": [
        {
          "output_type": "execute_result",
          "data": {
            "text/plain": [
              "(398028, 27)"
            ]
          },
          "metadata": {
            "tags": []
          },
          "execution_count": 26
        }
      ]
    },
    {
      "cell_type": "code",
      "metadata": {
        "id": "Cu9krh0ITThP",
        "colab_type": "code",
        "colab": {
          "base_uri": "https://localhost:8080/",
          "height": 34
        },
        "outputId": "e93bb4ec-11d6-4900-c383-5b202bca216e"
      },
      "source": [
        "X_borderlinesmote.shape #number of rows in oversampling done using borderline SMOTE"
      ],
      "execution_count": 27,
      "outputs": [
        {
          "output_type": "execute_result",
          "data": {
            "text/plain": [
              "(398028, 27)"
            ]
          },
          "metadata": {
            "tags": []
          },
          "execution_count": 27
        }
      ]
    },
    {
      "cell_type": "code",
      "metadata": {
        "id": "uOAUSDLiTW1r",
        "colab_type": "code",
        "colab": {
          "base_uri": "https://localhost:8080/",
          "height": 34
        },
        "outputId": "9ed37154-34dd-4f30-aad7-37bcc4d0d7b0"
      },
      "source": [
        "X_adasyn.shape ##number of rows in oversampling done using borderline SMOTE"
      ],
      "execution_count": 28,
      "outputs": [
        {
          "output_type": "execute_result",
          "data": {
            "text/plain": [
              "(398029, 27)"
            ]
          },
          "metadata": {
            "tags": []
          },
          "execution_count": 28
        }
      ]
    },
    {
      "cell_type": "markdown",
      "metadata": {
        "id": "2PlUZiZJkJK8",
        "colab_type": "text"
      },
      "source": [
        "# Model Building"
      ]
    },
    {
      "cell_type": "markdown",
      "metadata": {
        "id": "w5UQqv37Etjm",
        "colab_type": "text"
      },
      "source": [
        "Here, we use following models to evaluate our results:\n",
        "\n",
        "\n",
        "1.   Logistic Regression\n",
        "2.   Decision Tree Classifier\n",
        "3.   Random Forest Classifier\n",
        "4.   XGBoost \n",
        "\n",
        "\n",
        "\n"
      ]
    },
    {
      "cell_type": "markdown",
      "metadata": {
        "id": "UM5LzQNtFREH",
        "colab_type": "text"
      },
      "source": [
        "#### Logistic Regression"
      ]
    },
    {
      "cell_type": "code",
      "metadata": {
        "id": "0IdDpI7hVTY0",
        "colab_type": "code",
        "colab": {}
      },
      "source": [
        "X_test.head()\n",
        "\n",
        "X_test['Amount'] = rs.transform(X_test['Amount'].values.reshape(-1,1))\n",
        "X_test['Time'] = rs.transform(X_test['Time'].values.reshape(-1,1))\n"
      ],
      "execution_count": 0,
      "outputs": []
    },
    {
      "cell_type": "code",
      "metadata": {
        "id": "4Dg76WPsUh1G",
        "colab_type": "code",
        "colab": {}
      },
      "source": [
        "#running classification models on undersampled/original data\n",
        "from sklearn.linear_model import LogisticRegression\n",
        "from sklearn.tree import DecisionTreeClassifier\n",
        "from sklearn.ensemble import RandomForestClassifier\n",
        "from xgboost import XGBClassifier\n",
        "\n",
        "#Training the model on Logistic Regression\n",
        "log_reg = LogisticRegression()\n",
        "log_reg.fit(X_train,y_train)\n",
        "\n",
        "#Obtain Logistic regression predictions\n",
        "\n",
        "y_pred_logistic= log_reg.predict(X_test)\n"
      ],
      "execution_count": 0,
      "outputs": []
    },
    {
      "cell_type": "code",
      "metadata": {
        "id": "23aUAjR42bzV",
        "colab_type": "code",
        "colab": {
          "base_uri": "https://localhost:8080/",
          "height": 811
        },
        "outputId": "70707889-cbb9-4b37-c112-ac40aceee0cd"
      },
      "source": [
        "#Evaluating Model Performance\n",
        "from sklearn.metrics import roc_curve,roc_auc_score, precision_recall_curve, average_precision_score,accuracy_score\n",
        "from sklearn.metrics import classification_report\n",
        "from sklearn.metrics import confusion_matrix\n",
        "\n",
        "# Create true and false positive rates\n",
        "false_positive_rate, true_positive_rate, threshold = roc_curve(y_test, y_pred_logistic)\n",
        "\n",
        "# Calculate Area Under the Receiver Operating Characteristic Curve \n",
        "probs_logistic = log_reg.predict_proba(X_test)\n",
        "roc_auc_logistic = roc_auc_score(y_test, probs_logistic[:, 1])\n",
        "print('ROC AUC Score:',roc_auc_logistic)\n",
        "\n",
        "# Obtain precision and recall \n",
        "precision, recall, thresholds = precision_recall_curve(y_test, y_pred_logistic)\n",
        "\n",
        "# Calculate average precision \n",
        "average_precision_logistic = average_precision_score(y_test, y_pred_logistic)\n",
        "\n",
        "# Define a roc_curve function\n",
        "def plot_roc_curve(false_positive_rate,true_positive_rate,roc_auc):\n",
        "    plt.plot(false_positive_rate, true_positive_rate, linewidth=5, label='AUC = %0.3f'% roc_auc)\n",
        "    plt.plot([0,1],[0,1], linewidth=5)\n",
        "    plt.xlim([-0.01, 1])\n",
        "    plt.ylim([0, 1.01])\n",
        "    plt.legend(loc='upper right')\n",
        "    plt.title('Receiver operating characteristic curve (ROC)')\n",
        "    plt.ylabel('True Positive Rate')\n",
        "    plt.xlabel('False Positive Rate')\n",
        "    plt.show()\n",
        "\n",
        "# Define a precision_recall_curve function\n",
        "def plot_pr_curve(recall, precision, average_precision):\n",
        "    plt.step(recall, precision, color='b', alpha=0.2, where='post')\n",
        "    plt.fill_between(recall, precision, step='post', alpha=0.2, color='b')\n",
        "    plt.xlabel('Recall')\n",
        "    plt.ylabel('Precision')\n",
        "    plt.ylim([0.0, 1.05])\n",
        "    plt.xlim([0.0, 1.0])\n",
        "    plt.title('2-class Precision-Recall curve: AP={0:0.2f}'.format(average_precision))\n",
        "    plt.show()\n",
        "\n",
        "# Print the classifcation report and confusion matrix\n",
        "print('Classification report:\\n', classification_report(y_test, y_pred_logistic))\n",
        "print('Confusion matrix:\\n',confusion_matrix(y_true = y_test, y_pred = y_pred_logistic))\n",
        "\n",
        "# Plot the roc curve \n",
        "plot_roc_curve(false_positive_rate,true_positive_rate,roc_auc_logistic)\n",
        "\n",
        "# Plot recall precision curve\n",
        "plot_pr_curve(recall, precision, average_precision_logistic)\n",
        "\n"
      ],
      "execution_count": 31,
      "outputs": [
        {
          "output_type": "stream",
          "text": [
            "ROC AUC Score: 0.9685360259468913\n",
            "Classification report:\n",
            "               precision    recall  f1-score   support\n",
            "\n",
            "           0       1.00      1.00      1.00     85301\n",
            "           1       0.79      0.63      0.70       142\n",
            "\n",
            "    accuracy                           1.00     85443\n",
            "   macro avg       0.90      0.81      0.85     85443\n",
            "weighted avg       1.00      1.00      1.00     85443\n",
            "\n",
            "Confusion matrix:\n",
            " [[85278    23]\n",
            " [   53    89]]\n"
          ],
          "name": "stdout"
        },
        {
          "output_type": "display_data",
          "data": {
            "image/png": "[encoded data removed]",
            "text/plain": [
              "<Figure size 432x288 with 1 Axes>"
            ]
          },
          "metadata": {
            "tags": []
          }
        },
        {
          "output_type": "display_data",
          "data": {
            "image/png": "[encoded data removed]",
            "text/plain": [
              "<Figure size 432x288 with 1 Axes>"
            ]
          },
          "metadata": {
            "tags": []
          }
        }
      ]
    },
    {
      "cell_type": "markdown",
      "metadata": {
        "id": "p52xwSgR6Ska",
        "colab_type": "text"
      },
      "source": [
        "We obtain an AUC-ROC score of 0.97 , with precision and recall of 0.90 and recall of 0.81 when trained with logistic regression on undersampled/original dataset."
      ]
    },
    {
      "cell_type": "code",
      "metadata": {
        "id": "CwXgTlmI3g07",
        "colab_type": "code",
        "colab": {
          "base_uri": "https://localhost:8080/",
          "height": 1000
        },
        "outputId": "36b2f3d4-b74c-4369-9742-ee49aa14e2f5"
      },
      "source": [
        "#Training the model on Logistic Regression\n",
        "\n",
        "rand_oversample_model_logistic = LogisticRegression().fit(X_oversam,y_oversam)\n",
        "smote_model_logistic = LogisticRegression().fit(X_smote,y_smote)\n",
        "smote_border_model_logistic = LogisticRegression().fit(X_borderlinesmote,y_borderlinesmote)\n",
        "adasyn_model_logistic = LogisticRegression().fit(X_adasyn,y_adasyn)\n",
        "\n",
        "#Obtain Logistic regression predictions\n",
        "y_pred_lrand_oversample_logistic = rand_oversample_model_logistic.predict(X_test)\n",
        "y_pred_smote_model_logistic = smote_model_logistic.predict(X_test)\n",
        "y_pred_smote_border_model_logistic = smote_border_model_logistic.predict(X_test)\n",
        "y_pred_adasyn_model_logistic = adasyn_model_logistic.predict(X_test)\n",
        "\n",
        "#Model Evaluation \n",
        "\n",
        "#Random oversampling\n",
        "print('Model Evaluation for Random Oversampling:\\n')\n",
        "print('Classifcation report:\\n', classification_report(y_test, y_pred_lrand_oversample_logistic))\n",
        "print('Confusion matrix:\\n', confusion_matrix(y_true = y_test, y_pred = y_pred_lrand_oversample_logistic))\n",
        "probs_logistic_rand_ovsmple = rand_oversample_model_logistic.predict_proba(X_test)\n",
        "roc_auc_logistic_rand_ovsmple = roc_auc_score(y_test, probs_logistic_rand_ovsmple[:, 1])\n",
        "print('ROC AUC Score:',roc_auc_logistic_rand_ovsmple)\n",
        "print('*'*25)\n",
        "\n",
        "\n",
        "#SMOTE oversampling\n",
        "print('Model Evaluation for SMOTE Oversampling:\\n')\n",
        "print('Classifcation report:\\n', classification_report(y_test, y_pred_smote_model_logistic))\n",
        "print('Confusion matrix:\\n', confusion_matrix(y_true = y_test, y_pred = y_pred_smote_model_logistic))\n",
        "probs_logistic_SMTE = smote_model_logistic.predict_proba(X_test)\n",
        "roc_auc_logistic_SMTE = roc_auc_score(y_test, probs_logistic_SMTE[:, 1])\n",
        "print('ROC AUC Score:',roc_auc_logistic_SMTE)\n",
        "print('*'*25)\n",
        "\n",
        "#BorderSMOTE Oversampling\n",
        "print('Model Evaluation for BorderLine SMOTE Oversampling:\\n')\n",
        "print('Classifcation report:\\n', classification_report(y_test, y_pred_smote_border_model_logistic))\n",
        "print('Confusion matrix:\\n', confusion_matrix(y_true = y_test, y_pred = y_pred_smote_border_model_logistic))\n",
        "probs_logistic_SMTE_border = smote_border_model_logistic.predict_proba(X_test)\n",
        "roc_auc_logistic_SMTE_border = roc_auc_score(y_test, probs_logistic_SMTE_border[:, 1])\n",
        "print('ROC AUC Score:',roc_auc_logistic_SMTE_border)\n",
        "print('*'*25)\n",
        "\n",
        "\n",
        "#ADASYN Oversampling\n",
        "print('Model Evaluation for ADASYN Oversampling:\\n')\n",
        "print('Classifcation report:\\n', classification_report(y_test, y_pred_adasyn_model_logistic))\n",
        "print('Confusion matrix:\\n', confusion_matrix(y_true = y_test, y_pred = y_pred_adasyn_model_logistic))\n",
        "probs_logistic_adasyn = adasyn_model_logistic.predict_proba(X_test)\n",
        "roc_auc_logistic_adasyn = roc_auc_score(y_test, probs_logistic_adasyn[:, 1])\n",
        "print('ROC AUC Score:',roc_auc_logistic_adasyn)\n",
        "print('*'*25)\n"
      ],
      "execution_count": 32,
      "outputs": [
        {
          "output_type": "stream",
          "text": [
            "Model Evaluation for Random Oversampling:\n",
            "\n",
            "Classifcation report:\n",
            "               precision    recall  f1-score   support\n",
            "\n",
            "           0       1.00      0.98      0.99     85301\n",
            "           1       0.08      0.86      0.15       142\n",
            "\n",
            "    accuracy                           0.98     85443\n",
            "   macro avg       0.54      0.92      0.57     85443\n",
            "weighted avg       1.00      0.98      0.99     85443\n",
            "\n",
            "Confusion matrix:\n",
            " [[83921  1380]\n",
            " [   20   122]]\n",
            "ROC AUC Score: 0.9659620422857187\n",
            "*************************\n",
            "Model Evaluation for SMOTE Oversampling:\n",
            "\n",
            "Classifcation report:\n",
            "               precision    recall  f1-score   support\n",
            "\n",
            "           0       1.00      0.98      0.99     85301\n",
            "           1       0.07      0.87      0.13       142\n",
            "\n",
            "    accuracy                           0.98     85443\n",
            "   macro avg       0.54      0.93      0.56     85443\n",
            "weighted avg       1.00      0.98      0.99     85443\n",
            "\n",
            "Confusion matrix:\n",
            " [[83688  1613]\n",
            " [   18   124]]\n",
            "ROC AUC Score: 0.9651339473754167\n",
            "*************************\n",
            "Model Evaluation for BorderLine SMOTE Oversampling:\n",
            "\n",
            "Classifcation report:\n",
            "               precision    recall  f1-score   support\n",
            "\n",
            "           0       1.00      0.98      0.99     85301\n",
            "           1       0.07      0.85      0.12       142\n",
            "\n",
            "    accuracy                           0.98     85443\n",
            "   macro avg       0.53      0.91      0.56     85443\n",
            "weighted avg       1.00      0.98      0.99     85443\n",
            "\n",
            "Confusion matrix:\n",
            " [[83588  1713]\n",
            " [   22   120]]\n",
            "ROC AUC Score: 0.9295262790208856\n",
            "*************************\n",
            "Model Evaluation for ADASYN Oversampling:\n",
            "\n",
            "Classifcation report:\n",
            "               precision    recall  f1-score   support\n",
            "\n",
            "           0       1.00      0.93      0.96     85301\n",
            "           1       0.02      0.94      0.04       142\n",
            "\n",
            "    accuracy                           0.93     85443\n",
            "   macro avg       0.51      0.94      0.50     85443\n",
            "weighted avg       1.00      0.93      0.96     85443\n",
            "\n",
            "Confusion matrix:\n",
            " [[79341  5960]\n",
            " [    8   134]]\n",
            "ROC AUC Score: 0.9653360486007216\n",
            "*************************\n"
          ],
          "name": "stdout"
        }
      ]
    },
    {
      "cell_type": "markdown",
      "metadata": {
        "id": "492zShO4DUpx",
        "colab_type": "text"
      },
      "source": [
        "It is seen that with ADASYN OverSampling , we have the better model when model implemented is Logistic Regression."
      ]
    },
    {
      "cell_type": "code",
      "metadata": {
        "id": "7rZoDiAy8bW3",
        "colab_type": "code",
        "colab": {
          "base_uri": "https://localhost:8080/",
          "height": 238
        },
        "outputId": "9a4d8abe-6c9f-4acd-8945-5ad9212ed4bb"
      },
      "source": [
        "##Logistic Regression with sampled Data using Pipeline\n",
        "# Import the pipeline module we need for this from imblearn\n",
        "from imblearn.pipeline import Pipeline \n",
        "\n",
        "\n",
        "# Define which resampling method and which ML model to use in the pipeline\n",
        "model = LogisticRegression() \n",
        "\n",
        "# Define the pipeline, tell it to combine SMOTE with the Logistic Regression model\n",
        "pipeline = Pipeline([('SMOTE', smote), ('Logistic Regression', model)])\n",
        "\n",
        "# Fit your pipeline onto your training set and obtain predictions by fitting the model onto the test data \n",
        "pipeline.fit(X_train, y_train) \n",
        "y_predicted_logistic_final = pipeline.predict(X_test)\n",
        "\n",
        "# Obtain the results from the classification report and confusion matrix \n",
        "print('Classifcation report:\\n', classification_report(y_test, y_predicted_logistic_final))\n",
        "print('Confusion matrix:\\n', confusion_matrix(y_true = y_test, y_pred = y_predicted_logistic_final))"
      ],
      "execution_count": 33,
      "outputs": [
        {
          "output_type": "stream",
          "text": [
            "Classifcation report:\n",
            "               precision    recall  f1-score   support\n",
            "\n",
            "           0       1.00      0.98      0.99     85301\n",
            "           1       0.07      0.87      0.13       142\n",
            "\n",
            "    accuracy                           0.98     85443\n",
            "   macro avg       0.54      0.93      0.56     85443\n",
            "weighted avg       1.00      0.98      0.99     85443\n",
            "\n",
            "Confusion matrix:\n",
            " [[83688  1613]\n",
            " [   18   124]]\n"
          ],
          "name": "stdout"
        }
      ]
    },
    {
      "cell_type": "markdown",
      "metadata": {
        "id": "F1lDrz9oaBT4",
        "colab_type": "text"
      },
      "source": [
        "Since , ADASYN Oversampling has shown better results among other oversampling techniques, so for further models ADASYN Oversampling is only used"
      ]
    },
    {
      "cell_type": "markdown",
      "metadata": {
        "id": "RKmdioyFmAXg",
        "colab_type": "text"
      },
      "source": [
        "#### RandomForestClassifier"
      ]
    },
    {
      "cell_type": "code",
      "metadata": {
        "id": "dDSUoohqFi2L",
        "colab_type": "code",
        "colab": {
          "base_uri": "https://localhost:8080/",
          "height": 550
        },
        "outputId": "1db350f7-49e9-4bc3-e298-c3fef2c47911"
      },
      "source": [
        "model_rndm_forest = RandomForestClassifier()\n",
        "model_rndm_forest.fit(X_train, y_train)\n",
        "\n",
        "# Obtain model predictions\n",
        "y_predicted_rndm_frst = model_rndm_forest.predict(X_test)\n",
        "\n",
        "# Predict probabilities\n",
        "probs_rndm_frst = model_rndm_forest.predict_proba(X_test)\n",
        "\n",
        "# Calculate average precision \n",
        "average_precision = average_precision_score(y_test, y_predicted_rndm_frst)\n",
        "\n",
        "# Obtain precision and recall \n",
        "precision_rndm_frst, recall_rndm_frst, _ = precision_recall_curve(y_test, y_predicted_rndm_frst)\n",
        "\n",
        "# Plot the recall precision tradeoff\n",
        "plot_pr_curve(recall_rndm_frst, precision_rndm_frst, average_precision)\n",
        "\n",
        "# Print the classifcation report and confusion matrix\n",
        "print(\"Accuracy Score: \",accuracy_score(y_test, y_predicted_rndm_frst))\n",
        "print(\"AUC ROC score: \", roc_auc_score(y_test, probs_rndm_frst[:,1]))\n",
        "\n",
        "print('Classification report:\\n', classification_report(y_test, y_predicted_rndm_frst))\n",
        "print('Confusion matrix:\\n',confusion_matrix(y_true = y_test, y_pred = y_predicted_rndm_frst))"
      ],
      "execution_count": 34,
      "outputs": [
        {
          "output_type": "display_data",
          "data": {
            "image/png": "[encoded data removed]",
            "text/plain": [
              "<Figure size 432x288 with 1 Axes>"
            ]
          },
          "metadata": {
            "tags": []
          }
        },
        {
          "output_type": "stream",
          "text": [
            "Accuracy Score:  0.9994265182636377\n",
            "AUC ROC score:  0.9380957259718733\n",
            "Classification report:\n",
            "               precision    recall  f1-score   support\n",
            "\n",
            "           0       1.00      1.00      1.00     85301\n",
            "           1       0.88      0.75      0.81       142\n",
            "\n",
            "    accuracy                           1.00     85443\n",
            "   macro avg       0.94      0.88      0.91     85443\n",
            "weighted avg       1.00      1.00      1.00     85443\n",
            "\n",
            "Confusion matrix:\n",
            " [[85287    14]\n",
            " [   35   107]]\n"
          ],
          "name": "stdout"
        }
      ]
    },
    {
      "cell_type": "code",
      "metadata": {
        "id": "us_1FsB_KZ71",
        "colab_type": "code",
        "colab": {
          "base_uri": "https://localhost:8080/",
          "height": 238
        },
        "outputId": "2e4c60ef-bf0f-48ce-8228-7ed161ca9567"
      },
      "source": [
        "##Random Forest Classifier with sampled Data using Pipeline\n",
        "# Import the pipeline module we need for this from imblearn\n",
        "from imblearn.pipeline import Pipeline \n",
        "\n",
        "\n",
        "# Define which resampling method and which ML model to use in the pipeline\n",
        "model = RandomForestClassifier() \n",
        "\n",
        "# Define the pipeline, tell it to combine SMOTE with the Logistic Regression model\n",
        "pipeline = Pipeline([('adasyn', adasyn), ('Random Forest Classifier', model)])\n",
        "\n",
        "# Fit your pipeline onto your training set and obtain predictions by fitting the model onto the test data \n",
        "pipeline.fit(X_train, y_train) \n",
        "y_predicted_rdm_frst_final = pipeline.predict(X_test)\n",
        "\n",
        "# Obtain the results from the classification report and confusion matrix \n",
        "print('Classifcation report:\\n', classification_report(y_test, y_predicted_rdm_frst_final))\n",
        "print('Confusion matrix:\\n', confusion_matrix(y_true = y_test, y_pred = y_predicted_rdm_frst_final))"
      ],
      "execution_count": 35,
      "outputs": [
        {
          "output_type": "stream",
          "text": [
            "Classifcation report:\n",
            "               precision    recall  f1-score   support\n",
            "\n",
            "           0       1.00      1.00      1.00     85301\n",
            "           1       0.89      0.77      0.82       142\n",
            "\n",
            "    accuracy                           1.00     85443\n",
            "   macro avg       0.94      0.88      0.91     85443\n",
            "weighted avg       1.00      1.00      1.00     85443\n",
            "\n",
            "Confusion matrix:\n",
            " [[85287    14]\n",
            " [   33   109]]\n"
          ],
          "name": "stdout"
        }
      ]
    },
    {
      "cell_type": "markdown",
      "metadata": {
        "id": "mHyMje5ZTWrq",
        "colab_type": "text"
      },
      "source": [
        "With Random Forest we have obtained the following accuracies:\n",
        "\n",
        "  With OverSampling using adasyn:\n",
        "\n",
        "1. precision of  **94** percent \n",
        "2. recall of **89** percent\n",
        "\n",
        "Without Oversampling :\n",
        "\n",
        "1. precision of **95** percent\n",
        "2. recall of **88** percent  "
      ]
    },
    {
      "cell_type": "markdown",
      "metadata": {
        "id": "fJQNIcnCT71l",
        "colab_type": "text"
      },
      "source": [
        "#### XG Boost"
      ]
    },
    {
      "cell_type": "code",
      "metadata": {
        "id": "rngnelEdQim9",
        "colab_type": "code",
        "colab": {
          "base_uri": "https://localhost:8080/",
          "height": 550
        },
        "outputId": "039aeee1-a9b1-4e5e-a6a3-05248bb4060c"
      },
      "source": [
        "## implementing xgboost algorithm\n",
        "model_xgb_classifier = XGBClassifier(tree_method ='gpu_hist')\n",
        "model_xgb_classifier.fit(X_train,y_train)\n",
        "\n",
        "y_pred_xgb = model_xgb_classifier.predict(X_test)\n",
        "\n",
        "# Predict probabilities\n",
        "probs_xgb = model_xgb_classifier.predict_proba(X_test)\n",
        "\n",
        "# Calculate average precision \n",
        "average_precision = average_precision_score(y_test, y_pred_xgb)\n",
        "\n",
        "# Obtain precision and recall \n",
        "precision_xgb, recall_xgb, _ = precision_recall_curve(y_test, y_pred_xgb)\n",
        "\n",
        "# Plot the recall precision tradeoff\n",
        "plot_pr_curve(recall_xgb, precision_xgb, average_precision)\n",
        "\n",
        "\n",
        "# Print the classifcation report and confusion matrix\n",
        "print(\"Accuracy Score: \",accuracy_score(y_test, y_pred_xgb))\n",
        "print(\"AUC ROC score: \", roc_auc_score(y_test, probs_xgb[:,1]))\n",
        "\n",
        "print('Classification report:\\n', classification_report(y_test, y_pred_xgb))\n",
        "print('Confusion matrix:\\n',confusion_matrix(y_true = y_test, y_pred = y_pred_xgb))\n"
      ],
      "execution_count": 36,
      "outputs": [
        {
          "output_type": "display_data",
          "data": {
            "image/png": "[encoded data removed]",
            "text/plain": [
              "<Figure size 432x288 with 1 Axes>"
            ]
          },
          "metadata": {
            "tags": []
          }
        },
        {
          "output_type": "stream",
          "text": [
            "Accuracy Score:  0.9993328885923949\n",
            "AUC ROC score:  0.974972223465174\n",
            "Classification report:\n",
            "               precision    recall  f1-score   support\n",
            "\n",
            "           0       1.00      1.00      1.00     85301\n",
            "           1       0.83      0.75      0.79       142\n",
            "\n",
            "    accuracy                           1.00     85443\n",
            "   macro avg       0.91      0.88      0.89     85443\n",
            "weighted avg       1.00      1.00      1.00     85443\n",
            "\n",
            "Confusion matrix:\n",
            " [[85279    22]\n",
            " [   35   107]]\n"
          ],
          "name": "stdout"
        }
      ]
    },
    {
      "cell_type": "code",
      "metadata": {
        "id": "FUg7Fgztb-ET",
        "colab_type": "code",
        "colab": {
          "base_uri": "https://localhost:8080/",
          "height": 238
        },
        "outputId": "857c6cbd-6769-4166-bc2d-45d3060c5f26"
      },
      "source": [
        "##XGB with sampled Data using Pipeline\n",
        "# Import the pipeline module we need for this from imblearn\n",
        "\n",
        "# Define which resampling method and which ML model to use in the pipeline\n",
        "model = XGBClassifier(tree_method = 'gpu_hist') \n",
        "\n",
        "# Define the pipeline, tell it to combine SMOTE with the Logistic Regression model\n",
        "#pipeline = Pipeline([('SMOTE', smote), ('XGB Classifier', model)])\n",
        "\n",
        "adasyn = ADASYN(random_state=0)\n",
        "\n",
        "X_adasyn_xgb, y_adasyn_xgb = adasyn.fit_sample(X_train,y_train)\n",
        "\n",
        "x_train_adasyn_xgb = pd.DataFrame(X_adasyn_xgb) \n",
        "\n",
        "x_train_adasyn_xgb.columns = X_train.columns\n",
        "\n",
        "y_train_adasyn_xgb = pd.Series(y_adasyn_xgb)\n",
        "#print(X_smote_xgb)\n",
        "# Fit your pipeline onto your training set and obtain predictions by fitting the model onto the test data \n",
        "#pipeline.fit(X_train, y_train)\n",
        "model.fit(x_train_adasyn_xgb,y_train_adasyn_xgb) \n",
        "y_predicted_xgb_final = model.predict(X_test)\n",
        "#model.predict(X_test)\n",
        "\n",
        "# Obtain the results from the classification report and confusion matrix \n",
        "print('Classifcation report:\\n', classification_report(y_test, y_predicted_xgb_final))\n",
        "print('Confusion matrix:\\n', confusion_matrix(y_true = y_test, y_pred = y_predicted_xgb_final))"
      ],
      "execution_count": 37,
      "outputs": [
        {
          "output_type": "stream",
          "text": [
            "Classifcation report:\n",
            "               precision    recall  f1-score   support\n",
            "\n",
            "           0       1.00      0.97      0.99     85301\n",
            "           1       0.05      0.88      0.10       142\n",
            "\n",
            "    accuracy                           0.97     85443\n",
            "   macro avg       0.53      0.93      0.54     85443\n",
            "weighted avg       1.00      0.97      0.99     85443\n",
            "\n",
            "Confusion matrix:\n",
            " [[83112  2189]\n",
            " [   17   125]]\n"
          ],
          "name": "stdout"
        }
      ]
    },
    {
      "cell_type": "markdown",
      "metadata": {
        "id": "yLYn_8oFli2C",
        "colab_type": "text"
      },
      "source": [
        "With XGB Classfier following are the accuracy results:\n",
        "\n",
        "1. Without Oversampling:\n",
        "\n",
        "    Precision: 0.91\n",
        "\n",
        "    Recall : 0.89\n",
        "\n",
        "2. With Oversampling using ADASYN Oversampling:\n",
        "\n",
        "    Precision : 0.53\n",
        "\n",
        "    Recall    : 0.93    "
      ]
    },
    {
      "cell_type": "markdown",
      "metadata": {
        "id": "AP4nJ16El0qa",
        "colab_type": "text"
      },
      "source": [
        "# Result for best model performance"
      ]
    },
    {
      "cell_type": "markdown",
      "metadata": {
        "id": "Li3eopssFtDq",
        "colab_type": "text"
      },
      "source": [
        "So ,out of all the tested models we see that, **random forest classifier** with **ADASYN oversampling** technique gives the best result.\n",
        "\n",
        "**Precision : 0.90**\n",
        "\n",
        "**Recall : 0.89**"
      ]
    },
    {
      "cell_type": "markdown",
      "metadata": {
        "id": "9It3hpAmn3NQ",
        "colab_type": "text"
      },
      "source": [
        "# Hyperparameter  tuning for selected model"
      ]
    },
    {
      "cell_type": "markdown",
      "metadata": {
        "id": "hbI7FT5Qn9hw",
        "colab_type": "text"
      },
      "source": [
        "#### Grid Search for finding optimum parameter"
      ]
    },
    {
      "cell_type": "code",
      "metadata": {
        "id": "hCRggEhDoX_k",
        "colab_type": "code",
        "colab": {
          "base_uri": "https://localhost:8080/",
          "height": 85
        },
        "outputId": "82d8b59c-225a-464b-d4d9-37873e269a56"
      },
      "source": [
        "##GridSearchCV to find optimal parameters for Random Forest Classifier \n",
        "\n",
        "from sklearn.model_selection import GridSearchCV\n",
        "\n",
        "# Define the parameter sets to test\n",
        "param_grid = {\n",
        "    'n_estimators': [1, 30], \n",
        "    'max_features': ['auto', 'log2'],  \n",
        "    'max_depth': [4, 8], \n",
        "    'criterion': ['gini', 'entropy']\n",
        "}\n",
        "\n",
        "# Define the model to use\n",
        "model = RandomForestClassifier()\n",
        "\n",
        "# Combine the parameter sets with the defined model\n",
        "CV_model = GridSearchCV(estimator=model, param_grid=param_grid, cv=5, scoring='recall', n_jobs=-1)\n",
        "\n",
        "# Fit the model to our training data and obtain best parameters\n",
        "CV_model.fit(X_train, y_train)\n",
        "CV_model.best_params_"
      ],
      "execution_count": 38,
      "outputs": [
        {
          "output_type": "execute_result",
          "data": {
            "text/plain": [
              "{'criterion': 'gini',\n",
              " 'max_depth': 8,\n",
              " 'max_features': 'auto',\n",
              " 'n_estimators': 30}"
            ]
          },
          "metadata": {
            "tags": []
          },
          "execution_count": 38
        }
      ]
    },
    {
      "cell_type": "code",
      "metadata": {
        "id": "685EsTOGso19",
        "colab_type": "code",
        "colab": {
          "base_uri": "https://localhost:8080/",
          "height": 533
        },
        "outputId": "fa016e74-e0bf-4f9d-b747-9eb1ac22b4d6"
      },
      "source": [
        "##Model results using GridSearchCV\n",
        "\n",
        "\n",
        "# Build a RandomForestClassifier using the GridSearchCV parameters\n",
        "model_final = RandomForestClassifier(bootstrap=True,\n",
        "                               class_weight = {0:1,1:12},\n",
        "                               criterion = 'entropy',\n",
        "                               n_estimators = 30,\n",
        "                               max_features = 'log2',\n",
        "                               min_samples_leaf = 10,\n",
        "                               max_depth = 8,\n",
        "                               n_jobs = -1,\n",
        "                               random_state = 5)\n",
        "\n",
        "# Fit the model to your training data and get the predicted results\n",
        "model_final.fit(X_train,y_train)\n",
        "y_predicted_final = model_final.predict(X_test)\n",
        "\n",
        "# Calculate average precision \n",
        "average_precision = average_precision_score(y_test, y_predicted_final)\n",
        "\n",
        "# Obtain precision and recall \n",
        "precision, recall, _ = precision_recall_curve(y_test, y_predicted_final)\n",
        "\n",
        "# Plot the recall precision tradeoff\n",
        "plot_pr_curve(recall, precision, average_precision)\n",
        "\n",
        "# Print the roc_auc_score,Classifcation report and Confusin matrix\n",
        "probs = model_final.predict_proba(X_test)\n",
        "print('roc_auc_score:', roc_auc_score(y_test,probs[:,1]))\n",
        "print('Classification report:\\n',classification_report(y_test,y_predicted_final))\n",
        "print('Confusion_matrix:\\n',confusion_matrix(y_test,y_predicted_final))"
      ],
      "execution_count": 39,
      "outputs": [
        {
          "output_type": "display_data",
          "data": {
            "image/png": "[encoded data removed]",
            "text/plain": [
              "<Figure size 432x288 with 1 Axes>"
            ]
          },
          "metadata": {
            "tags": []
          }
        },
        {
          "output_type": "stream",
          "text": [
            "roc_auc_score: 0.9711323001843842\n",
            "Classification report:\n",
            "               precision    recall  f1-score   support\n",
            "\n",
            "           0       1.00      1.00      1.00     85301\n",
            "           1       0.75      0.77      0.76       142\n",
            "\n",
            "    accuracy                           1.00     85443\n",
            "   macro avg       0.87      0.88      0.88     85443\n",
            "weighted avg       1.00      1.00      1.00     85443\n",
            "\n",
            "Confusion_matrix:\n",
            " [[85264    37]\n",
            " [   33   109]]\n"
          ],
          "name": "stdout"
        }
      ]
    },
    {
      "cell_type": "code",
      "metadata": {
        "id": "_r4o-FEtwEjG",
        "colab_type": "code",
        "colab": {
          "base_uri": "https://localhost:8080/",
          "height": 85
        },
        "outputId": "dfa13fc5-932f-4bbb-bb4a-39ca0ac42c81"
      },
      "source": [
        "#performing the hyperparameter tuning on oversampled data with randomforest classifier\n",
        "\n",
        "# Define the model to use\n",
        "model = RandomForestClassifier()\n",
        "\n",
        "# Combine the parameter sets with the defined model\n",
        "CV_model = GridSearchCV(estimator=model, param_grid=param_grid, cv=5, scoring='recall', n_jobs=-1)\n",
        "\n",
        "\n",
        "pipeline = Pipeline([('ADASYN', adasyn), ('Cross Validation Model', CV_model)])\n",
        "\n",
        "# Fit your pipeline onto your training set and obtain predictions by fitting the model onto the test data \n",
        "pipeline.fit(X_train, y_train) \n",
        "CV_model.best_params_\n"
      ],
      "execution_count": 40,
      "outputs": [
        {
          "output_type": "execute_result",
          "data": {
            "text/plain": [
              "{'criterion': 'gini',\n",
              " 'max_depth': 8,\n",
              " 'max_features': 'auto',\n",
              " 'n_estimators': 30}"
            ]
          },
          "metadata": {
            "tags": []
          },
          "execution_count": 40
        }
      ]
    },
    {
      "cell_type": "code",
      "metadata": {
        "id": "wzlqUsw7yQEW",
        "colab_type": "code",
        "colab": {
          "base_uri": "https://localhost:8080/",
          "height": 533
        },
        "outputId": "d91c19ef-f3ec-4a9e-c75c-2627979a1bdb"
      },
      "source": [
        "##Model results using GridSearchCV with random forest using oversampling SMOTE\n",
        "\n",
        "\n",
        "# Build a RandomForestClassifier using the GridSearchCV parameters\n",
        "model = RandomForestClassifier(bootstrap=True,\n",
        "                               class_weight = {0:1,1:12},\n",
        "                               criterion = 'gini',\n",
        "                               n_estimators = 30,\n",
        "                               max_features = 'auto',\n",
        "                               min_samples_leaf = 10,\n",
        "                               max_depth = 8,\n",
        "                               n_jobs = -1,\n",
        "                               random_state = 5)\n",
        "\n",
        "\n",
        "#model = RandomForestClassifier()\n",
        "\n",
        "pipeline = Pipeline([('ADASYN', adasyn), ('Random Forest Classifier', model)])\n",
        "\n",
        "# Fit the model to your training data and get the predicted results\n",
        "pipeline.fit(X_train,y_train)\n",
        "y_predicted = pipeline.predict(X_test)\n",
        "\n",
        "# Calculate average precision \n",
        "average_precision = average_precision_score(y_test, y_predicted)\n",
        "\n",
        "# Obtain precision and recall \n",
        "precision, recall, _ = precision_recall_curve(y_test, y_predicted)\n",
        "\n",
        "# Plot the recall precision tradeoff\n",
        "plot_pr_curve(recall, precision, average_precision)\n",
        "\n",
        "# Print the roc_auc_score,Classifcation report and Confusin matrix\n",
        "probs = model.predict_proba(X_test)\n",
        "print('roc_auc_score:', roc_auc_score(y_test,probs[:,1]))\n",
        "print('Classification report:\\n',classification_report(y_test,y_predicted))\n",
        "\n",
        "print('Confusion_matrix:\\n',confusion_matrix(y_test,y_predicted))"
      ],
      "execution_count": 41,
      "outputs": [
        {
          "output_type": "display_data",
          "data": {
            "image/png": "[encoded data removed]",
            "text/plain": [
              "<Figure size 432x288 with 1 Axes>"
            ]
          },
          "metadata": {
            "tags": []
          }
        },
        {
          "output_type": "stream",
          "text": [
            "roc_auc_score: 0.9509435600956415\n",
            "Classification report:\n",
            "               precision    recall  f1-score   support\n",
            "\n",
            "           0       1.00      0.76      0.86     85301\n",
            "           1       0.01      0.92      0.01       142\n",
            "\n",
            "    accuracy                           0.76     85443\n",
            "   macro avg       0.50      0.84      0.44     85443\n",
            "weighted avg       1.00      0.76      0.86     85443\n",
            "\n",
            "Confusion_matrix:\n",
            " [[64949 20352]\n",
            " [   11   131]]\n"
          ],
          "name": "stdout"
        }
      ]
    },
    {
      "cell_type": "markdown",
      "metadata": {
        "id": "f2uhdlxGCJAA",
        "colab_type": "text"
      },
      "source": [
        "Final confusion Matrix for random forest model:\n"
      ]
    },
    {
      "cell_type": "code",
      "metadata": {
        "id": "vAERkGS7OsD4",
        "colab_type": "code",
        "colab": {
          "base_uri": "https://localhost:8080/",
          "height": 68
        },
        "outputId": "682ead57-2209-4513-9bb9-fe0992da025b"
      },
      "source": [
        "print('Confusion_matrix:\\n',confusion_matrix(y_test,y_predicted_final))"
      ],
      "execution_count": 42,
      "outputs": [
        {
          "output_type": "stream",
          "text": [
            "Confusion_matrix:\n",
            " [[85264    37]\n",
            " [   33   109]]\n"
          ],
          "name": "stdout"
        }
      ]
    },
    {
      "cell_type": "markdown",
      "metadata": {
        "id": "N9sQUeZ1ks_O",
        "colab_type": "text"
      },
      "source": [
        "#### Voting Classifier "
      ]
    },
    {
      "cell_type": "markdown",
      "metadata": {
        "id": "TxQmpJZgiRR9",
        "colab_type": "text"
      },
      "source": [
        "A Voting Classifier is a machine learning model that trains on an ensemble of numerous models and predicts an output (class) based on their highest probability of chosen class as the output."
      ]
    },
    {
      "cell_type": "markdown",
      "metadata": {
        "id": "ll-fR7PqirbV",
        "colab_type": "text"
      },
      "source": [
        "So, we are going to use the logistic regression model without oversampling, random classifier with oversampling and xgboost classifier without Oversampling to get an enesemble model, with accurate results"
      ]
    },
    {
      "cell_type": "code",
      "metadata": {
        "id": "nnbgTbVxjEks",
        "colab_type": "code",
        "colab": {}
      },
      "source": [
        "from sklearn.ensemble import VotingClassifier\n",
        "\n",
        "#create a dictionary of our models\n",
        "estimators = [('xgb', model_xgb_classifier), ('rf', model_final), ('log_reg', log_reg)]\n",
        "#create our voting classifier, inputting our models\n",
        "ensemble = VotingClassifier(estimators, voting='soft')"
      ],
      "execution_count": 0,
      "outputs": []
    },
    {
      "cell_type": "code",
      "metadata": {
        "id": "nFin8ftklfZx",
        "colab_type": "code",
        "colab": {
          "base_uri": "https://localhost:8080/",
          "height": 476
        },
        "outputId": "654d196a-c0cb-42f1-c21e-f035b576130f"
      },
      "source": [
        "ensemble"
      ],
      "execution_count": 44,
      "outputs": [
        {
          "output_type": "execute_result",
          "data": {
            "text/plain": [
              "VotingClassifier(estimators=[('xgb',\n",
              "                              XGBClassifier(base_score=0.5, booster='gbtree',\n",
              "                                            colsample_bylevel=1,\n",
              "                                            colsample_bynode=1,\n",
              "                                            colsample_bytree=1, gamma=0,\n",
              "                                            learning_rate=0.1, max_delta_step=0,\n",
              "                                            max_depth=3, min_child_weight=1,\n",
              "                                            missing=None, n_estimators=100,\n",
              "                                            n_jobs=1, nthread=None,\n",
              "                                            objective='binary:logistic',\n",
              "                                            random_state=0, reg_alpha=0,\n",
              "                                            reg_lambda=1, scale_pos_weight...\n",
              "                                                     random_state=5, verbose=0,\n",
              "                                                     warm_start=False)),\n",
              "                             ('log_reg',\n",
              "                              LogisticRegression(C=1.0, class_weight=None,\n",
              "                                                 dual=False, fit_intercept=True,\n",
              "                                                 intercept_scaling=1,\n",
              "                                                 l1_ratio=None, max_iter=100,\n",
              "                                                 multi_class='auto',\n",
              "                                                 n_jobs=None, penalty='l2',\n",
              "                                                 random_state=None,\n",
              "                                                 solver='lbfgs', tol=0.0001,\n",
              "                                                 verbose=0,\n",
              "                                                 warm_start=False))],\n",
              "                 flatten_transform=True, n_jobs=None, voting='soft',\n",
              "                 weights=None)"
            ]
          },
          "metadata": {
            "tags": []
          },
          "execution_count": 44
        }
      ]
    },
    {
      "cell_type": "code",
      "metadata": {
        "id": "Ja3guLq9jot0",
        "colab_type": "code",
        "colab": {}
      },
      "source": [
        "ensemble.fit(X_train,y_train) # without oversampling data\n",
        "ensemble_y_pred = ensemble.predict(X_test)"
      ],
      "execution_count": 0,
      "outputs": []
    },
    {
      "cell_type": "code",
      "metadata": {
        "id": "iuqCLeshlKRx",
        "colab_type": "code",
        "colab": {
          "base_uri": "https://localhost:8080/",
          "height": 68
        },
        "outputId": "69a87c59-06ba-46bf-99bc-083961425e0e"
      },
      "source": [
        "print('Confusion_matrix:\\n',confusion_matrix(y_test,ensemble_y_pred))"
      ],
      "execution_count": 46,
      "outputs": [
        {
          "output_type": "stream",
          "text": [
            "Confusion_matrix:\n",
            " [[85274    27]\n",
            " [   38   104]]\n"
          ],
          "name": "stdout"
        }
      ]
    },
    {
      "cell_type": "code",
      "metadata": {
        "id": "pa76TrfDmNlN",
        "colab_type": "code",
        "colab": {}
      },
      "source": [
        "model = ensemble \n",
        "\n",
        "smote = ADASYN(random_state=0)\n",
        "\n",
        "X_adasyn, y_adasyn = adasyn.fit_sample(X_train,y_train)\n",
        "\n",
        "X_train_ensemble_ovr = pd.DataFrame(X_adasyn) \n",
        "\n",
        "X_train_ensemble_ovr.columns = X_train.columns\n",
        "\n",
        "y_train_ensemble_ovr = pd.Series(y_adasyn)\n",
        "\n",
        "model.fit(X_train_ensemble_ovr,y_train_ensemble_ovr)\n",
        " \n",
        "y_predicted_ensemble_ovr = model.predict(X_test)\n"
      ],
      "execution_count": 0,
      "outputs": []
    },
    {
      "cell_type": "code",
      "metadata": {
        "id": "npE6GjhqzjdH",
        "colab_type": "code",
        "colab": {
          "base_uri": "https://localhost:8080/",
          "height": 68
        },
        "outputId": "474593e2-8f90-47e5-f2a4-6dc303764824"
      },
      "source": [
        "print('Confusion_matrix:\\n',confusion_matrix(y_test,y_predicted_ensemble_ovr))"
      ],
      "execution_count": 48,
      "outputs": [
        {
          "output_type": "stream",
          "text": [
            "Confusion_matrix:\n",
            " [[80923  4378]\n",
            " [   13   129]]\n"
          ],
          "name": "stdout"
        }
      ]
    },
    {
      "cell_type": "markdown",
      "metadata": {
        "id": "4zZ6_8iK1F84",
        "colab_type": "text"
      },
      "source": [
        "So, clearly we see that after using ensemble techniques based on Voting classifier , we have obtained better results without oversampling train data."
      ]
    },
    {
      "cell_type": "markdown",
      "metadata": {
        "id": "14FXk-lY3l9I",
        "colab_type": "text"
      },
      "source": [
        "# Result"
      ]
    },
    {
      "cell_type": "markdown",
      "metadata": {
        "id": "ek922fTZ3pKj",
        "colab_type": "text"
      },
      "source": [
        "Below are the statistical results of the final model:"
      ]
    },
    {
      "cell_type": "code",
      "metadata": {
        "id": "RkGTTypH3WIe",
        "colab_type": "code",
        "colab": {
          "base_uri": "https://localhost:8080/",
          "height": 68
        },
        "outputId": "59fc5721-6364-485e-a2b5-6c81ca0d0e2e"
      },
      "source": [
        "print('Confusion_matrix:\\n',confusion_matrix(y_test,ensemble_y_pred))"
      ],
      "execution_count": 49,
      "outputs": [
        {
          "output_type": "stream",
          "text": [
            "Confusion_matrix:\n",
            " [[85274    27]\n",
            " [   38   104]]\n"
          ],
          "name": "stdout"
        }
      ]
    },
    {
      "cell_type": "markdown",
      "metadata": {
        "id": "3FvLpq3g3z11",
        "colab_type": "text"
      },
      "source": [
        "Number of Transactions predicted to be non-fraudulent but are actually fraudulent : 27\n",
        "\n",
        "Number of Transactions predicted to be fraudulent but are non fraudulent : 38\n",
        "\n",
        "Number of correctly predicted non-fraudulent cases : 85274\n",
        "\n",
        "Number of correctly predicted fraudulent cases : 104\n"
      ]
    },
    {
      "cell_type": "code",
      "metadata": {
        "id": "bH4GgXqk4W0t",
        "colab_type": "code",
        "colab": {
          "base_uri": "https://localhost:8080/",
          "height": 607
        },
        "outputId": "cc9b0723-75c5-4cd4-a9e7-1f23029eb584"
      },
      "source": [
        "fpr, tpr, thresholds = metrics.roc_curve(y_test, ensemble_y_pred)\n",
        "\n",
        "# Calculate Area Under the Receiver Operating Characteristic Curve \n",
        "probs_ensemble = ensemble.predict_proba(X_test)\n",
        "roc_auc_ensemble = roc_auc_score(y_test, probs_ensemble[:, 1])\n",
        "\n",
        "print('ROC AUC Score:',roc_auc_ensemble)\n",
        "\n",
        "# Obtain precision and recall \n",
        "precision_ensemble, recall_ensemble, thresholds_ensemble = precision_recall_curve(y_test, ensemble_y_pred)\n",
        "\n",
        "# Calculate average precision \n",
        "average_precision_score_ensemble = average_precision_score(y_test, ensemble_y_pred)\n",
        "\n",
        "print('Average Precision Score:',average_precision_score)\n",
        "\n",
        "# Plot the roc curve \n",
        "plot_roc_curve(fpr,tpr,roc_auc_ensemble)\n",
        "\n",
        "# Plot recall precision curve\n",
        "plot_pr_curve(recall_ensemble, precision_ensemble, average_precision_score_ensemble)\n"
      ],
      "execution_count": 50,
      "outputs": [
        {
          "output_type": "stream",
          "text": [
            "ROC AUC Score: 0.9667863808211221\n",
            "Average Precision Score: <function average_precision_score at 0x7fc758f1f488>\n"
          ],
          "name": "stdout"
        },
        {
          "output_type": "display_data",
          "data": {
            "image/png": "[encoded data removed]",
            "text/plain": [
              "<Figure size 432x288 with 1 Axes>"
            ]
          },
          "metadata": {
            "tags": []
          }
        },
        {
          "output_type": "display_data",
          "data": {
            "image/png": "[encoded data removed]",
            "text/plain": [
              "<Figure size 432x288 with 1 Axes>"
            ]
          },
          "metadata": {
            "tags": []
          }
        }
      ]
    },
    {
      "cell_type": "code",
      "metadata": {
        "id": "n3e35cyu658N",
        "colab_type": "code",
        "colab": {
          "base_uri": "https://localhost:8080/",
          "height": 187
        },
        "outputId": "a0ce0bb7-49bf-4628-d087-082509ef90e5"
      },
      "source": [
        "print('Classifcation report:\\n', classification_report(y_test, ensemble_y_pred))\n"
      ],
      "execution_count": 51,
      "outputs": [
        {
          "output_type": "stream",
          "text": [
            "Classifcation report:\n",
            "               precision    recall  f1-score   support\n",
            "\n",
            "           0       1.00      1.00      1.00     85301\n",
            "           1       0.79      0.73      0.76       142\n",
            "\n",
            "    accuracy                           1.00     85443\n",
            "   macro avg       0.90      0.87      0.88     85443\n",
            "weighted avg       1.00      1.00      1.00     85443\n",
            "\n"
          ],
          "name": "stdout"
        }
      ]
    },
    {
      "cell_type": "code",
      "metadata": {
        "id": "rv7VNpF5hk7Z",
        "colab_type": "code",
        "colab": {}
      },
      "source": [
        ""
      ],
      "execution_count": 0,
      "outputs": []
    }
  ]
}